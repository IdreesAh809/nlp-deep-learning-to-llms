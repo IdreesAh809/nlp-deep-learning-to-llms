{
 "cells": [
  {
   "cell_type": "markdown",
   "id": "90a238c5-5d01-4281-b0aa-55d2e249c33f",
   "metadata": {},
   "source": [
    "# GRU for Fake News Detection\n",
    "\n",
    "This notebook demonstrates how to use **GRU (Gated Recurrent Unit)** networks for classifying news as **Fake** or **Real**.  \n",
    "We use the same [Fake and Real News Dataset](https://www.kaggle.com/datasets/clmentbisaillon/fake-and-real-news-dataset) from Kaggle.\n",
    "\n",
    "GRU is a type of RNN similar to LSTM but **simpler and faster**, with fewer gates:\n",
    "- GRU has **Update** and **Reset gates** instead of 3 gates in LSTM.  \n",
    "- Can handle **long-term dependencies** like LSTM, but with **fewer parameters**."
   ]
  },
  {
   "cell_type": "code",
   "execution_count": 1,
   "id": "960bfbc2-47d3-4e8f-b0d7-6de952b0fe3a",
   "metadata": {},
   "outputs": [
    {
     "data": {
      "text/html": [
       "<div>\n",
       "<style scoped>\n",
       "    .dataframe tbody tr th:only-of-type {\n",
       "        vertical-align: middle;\n",
       "    }\n",
       "\n",
       "    .dataframe tbody tr th {\n",
       "        vertical-align: top;\n",
       "    }\n",
       "\n",
       "    .dataframe thead th {\n",
       "        text-align: right;\n",
       "    }\n",
       "</style>\n",
       "<table border=\"1\" class=\"dataframe\">\n",
       "  <thead>\n",
       "    <tr style=\"text-align: right;\">\n",
       "      <th></th>\n",
       "      <th>text</th>\n",
       "      <th>label</th>\n",
       "    </tr>\n",
       "  </thead>\n",
       "  <tbody>\n",
       "    <tr>\n",
       "      <th>0</th>\n",
       "      <td>21st Century Wire says Ben Stein, reputable pr...</td>\n",
       "      <td>0</td>\n",
       "    </tr>\n",
       "    <tr>\n",
       "      <th>1</th>\n",
       "      <td>WASHINGTON (Reuters) - U.S. President Donald T...</td>\n",
       "      <td>1</td>\n",
       "    </tr>\n",
       "    <tr>\n",
       "      <th>2</th>\n",
       "      <td>(Reuters) - Puerto Rico Governor Ricardo Rosse...</td>\n",
       "      <td>1</td>\n",
       "    </tr>\n",
       "    <tr>\n",
       "      <th>3</th>\n",
       "      <td>On Monday, Donald Trump once again embarrassed...</td>\n",
       "      <td>0</td>\n",
       "    </tr>\n",
       "    <tr>\n",
       "      <th>4</th>\n",
       "      <td>GLASGOW, Scotland (Reuters) - Most U.S. presid...</td>\n",
       "      <td>1</td>\n",
       "    </tr>\n",
       "  </tbody>\n",
       "</table>\n",
       "</div>"
      ],
      "text/plain": [
       "                                                text  label\n",
       "0  21st Century Wire says Ben Stein, reputable pr...      0\n",
       "1  WASHINGTON (Reuters) - U.S. President Donald T...      1\n",
       "2  (Reuters) - Puerto Rico Governor Ricardo Rosse...      1\n",
       "3  On Monday, Donald Trump once again embarrassed...      0\n",
       "4  GLASGOW, Scotland (Reuters) - Most U.S. presid...      1"
      ]
     },
     "execution_count": 1,
     "metadata": {},
     "output_type": "execute_result"
    }
   ],
   "source": [
    "import pandas as pd\n",
    "\n",
    "# Load Fake and Real news CSVs\n",
    "fake_df = pd.read_csv('dataset/fake-news/Fake.csv')\n",
    "true_df = pd.read_csv('dataset/fake-news/True.csv')\n",
    "\n",
    "# Add label column\n",
    "fake_df['label'] = 0\n",
    "true_df['label'] = 1\n",
    "\n",
    "# Combine and shuffle\n",
    "df = pd.concat([fake_df, true_df], ignore_index=True)\n",
    "df = df.sample(frac=1, random_state=42).reset_index(drop=True)\n",
    "\n",
    "# Keep only the text and label\n",
    "df = df[['text', 'label']]\n",
    "\n",
    "# Check\n",
    "df.head()\n"
   ]
  },
  {
   "cell_type": "code",
   "execution_count": 2,
   "id": "6eb0f0f3-1e3f-462c-8427-1542414537e7",
   "metadata": {},
   "outputs": [
    {
     "name": "stdout",
     "output_type": "stream",
     "text": [
      "Number of samples: 44898\n",
      "Number of labels: 44898\n"
     ]
    }
   ],
   "source": [
    "# Prepare Features and Labels\n",
    "# Independent feature\n",
    "X = df['text']\n",
    "\n",
    "# Dependent feature\n",
    "y = df['label']\n",
    "\n",
    "# Check shape\n",
    "print(\"Number of samples:\", len(X))\n",
    "print(\"Number of labels:\", len(y))\n"
   ]
  },
  {
   "cell_type": "code",
   "execution_count": 3,
   "id": "ec6f4740-d6da-4106-bd3b-6383ce84ef90",
   "metadata": {},
   "outputs": [
    {
     "name": "stdout",
     "output_type": "stream",
     "text": [
      "[2762 2198   27 4553 1893 1816 4294 4614 4261 4553 3133 1469  789 2744\n",
      " 2968 4968 3305 2402 3478  800]\n"
     ]
    }
   ],
   "source": [
    "# Text Preprocessing \n",
    "from tensorflow.keras.preprocessing.text import one_hot\n",
    "from tensorflow.keras.preprocessing.sequence import pad_sequences\n",
    "\n",
    "# Vocabulary size\n",
    "voc_size = 5000\n",
    "\n",
    "# One-hot encode text\n",
    "onehot_repr = [one_hot(words, voc_size) for words in X]\n",
    "\n",
    "# Pad sequences\n",
    "sent_length = 20\n",
    "embedded_docs = pad_sequences(onehot_repr, padding='post', maxlen=sent_length)\n",
    "\n",
    "# Check first padded text\n",
    "print(embedded_docs[0])\n"
   ]
  },
  {
   "cell_type": "code",
   "execution_count": 4,
   "id": "3827f84f-cd63-4a62-9c3c-b1c50a00b955",
   "metadata": {},
   "outputs": [
    {
     "name": "stdout",
     "output_type": "stream",
     "text": [
      "Training data shape: (30081, 20)\n",
      "Testing data shape: (14817, 20)\n"
     ]
    }
   ],
   "source": [
    "# Prepare Data for Model\n",
    "import numpy as np\n",
    "from sklearn.model_selection import train_test_split\n",
    "\n",
    "X_final = np.array(embedded_docs)\n",
    "y_final = np.array(y)\n",
    "\n",
    "X_train, X_test, y_train, y_test = train_test_split(X_final, y_final, test_size=0.33, random_state=42)\n",
    "\n",
    "print(\"Training data shape:\", X_train.shape)\n",
    "print(\"Testing data shape:\", X_test.shape)\n"
   ]
  },
  {
   "cell_type": "code",
   "execution_count": 5,
   "id": "ce2e3503-635c-44ef-b986-45e4d070706d",
   "metadata": {},
   "outputs": [
    {
     "name": "stderr",
     "output_type": "stream",
     "text": [
      "D:\\miniconda_setup\\Lib\\site-packages\\keras\\src\\layers\\core\\embedding.py:97: UserWarning: Argument `input_length` is deprecated. Just remove it.\n",
      "  warnings.warn(\n"
     ]
    },
    {
     "data": {
      "text/html": [
       "<pre style=\"white-space:pre;overflow-x:auto;line-height:normal;font-family:Menlo,'DejaVu Sans Mono',consolas,'Courier New',monospace\"><span style=\"font-weight: bold\">Model: \"sequential\"</span>\n",
       "</pre>\n"
      ],
      "text/plain": [
       "\u001b[1mModel: \"sequential\"\u001b[0m\n"
      ]
     },
     "metadata": {},
     "output_type": "display_data"
    },
    {
     "data": {
      "text/html": [
       "<pre style=\"white-space:pre;overflow-x:auto;line-height:normal;font-family:Menlo,'DejaVu Sans Mono',consolas,'Courier New',monospace\">┏━━━━━━━━━━━━━━━━━━━━━━━━━━━━━━━━━━━━━━┳━━━━━━━━━━━━━━━━━━━━━━━━━━━━━┳━━━━━━━━━━━━━━━━━┓\n",
       "┃<span style=\"font-weight: bold\"> Layer (type)                         </span>┃<span style=\"font-weight: bold\"> Output Shape                </span>┃<span style=\"font-weight: bold\">         Param # </span>┃\n",
       "┡━━━━━━━━━━━━━━━━━━━━━━━━━━━━━━━━━━━━━━╇━━━━━━━━━━━━━━━━━━━━━━━━━━━━━╇━━━━━━━━━━━━━━━━━┩\n",
       "│ embedding (<span style=\"color: #0087ff; text-decoration-color: #0087ff\">Embedding</span>)                │ (<span style=\"color: #00d7ff; text-decoration-color: #00d7ff\">None</span>, <span style=\"color: #00af00; text-decoration-color: #00af00\">20</span>, <span style=\"color: #00af00; text-decoration-color: #00af00\">40</span>)              │         <span style=\"color: #00af00; text-decoration-color: #00af00\">200,000</span> │\n",
       "├──────────────────────────────────────┼─────────────────────────────┼─────────────────┤\n",
       "│ dropout (<span style=\"color: #0087ff; text-decoration-color: #0087ff\">Dropout</span>)                    │ (<span style=\"color: #00d7ff; text-decoration-color: #00d7ff\">None</span>, <span style=\"color: #00af00; text-decoration-color: #00af00\">20</span>, <span style=\"color: #00af00; text-decoration-color: #00af00\">40</span>)              │               <span style=\"color: #00af00; text-decoration-color: #00af00\">0</span> │\n",
       "├──────────────────────────────────────┼─────────────────────────────┼─────────────────┤\n",
       "│ gru (<span style=\"color: #0087ff; text-decoration-color: #0087ff\">GRU</span>)                            │ (<span style=\"color: #00d7ff; text-decoration-color: #00d7ff\">None</span>, <span style=\"color: #00af00; text-decoration-color: #00af00\">100</span>)                 │          <span style=\"color: #00af00; text-decoration-color: #00af00\">42,600</span> │\n",
       "├──────────────────────────────────────┼─────────────────────────────┼─────────────────┤\n",
       "│ dropout_1 (<span style=\"color: #0087ff; text-decoration-color: #0087ff\">Dropout</span>)                  │ (<span style=\"color: #00d7ff; text-decoration-color: #00d7ff\">None</span>, <span style=\"color: #00af00; text-decoration-color: #00af00\">100</span>)                 │               <span style=\"color: #00af00; text-decoration-color: #00af00\">0</span> │\n",
       "├──────────────────────────────────────┼─────────────────────────────┼─────────────────┤\n",
       "│ dense (<span style=\"color: #0087ff; text-decoration-color: #0087ff\">Dense</span>)                        │ (<span style=\"color: #00d7ff; text-decoration-color: #00d7ff\">None</span>, <span style=\"color: #00af00; text-decoration-color: #00af00\">1</span>)                   │             <span style=\"color: #00af00; text-decoration-color: #00af00\">101</span> │\n",
       "└──────────────────────────────────────┴─────────────────────────────┴─────────────────┘\n",
       "</pre>\n"
      ],
      "text/plain": [
       "┏━━━━━━━━━━━━━━━━━━━━━━━━━━━━━━━━━━━━━━┳━━━━━━━━━━━━━━━━━━━━━━━━━━━━━┳━━━━━━━━━━━━━━━━━┓\n",
       "┃\u001b[1m \u001b[0m\u001b[1mLayer (type)                        \u001b[0m\u001b[1m \u001b[0m┃\u001b[1m \u001b[0m\u001b[1mOutput Shape               \u001b[0m\u001b[1m \u001b[0m┃\u001b[1m \u001b[0m\u001b[1m        Param #\u001b[0m\u001b[1m \u001b[0m┃\n",
       "┡━━━━━━━━━━━━━━━━━━━━━━━━━━━━━━━━━━━━━━╇━━━━━━━━━━━━━━━━━━━━━━━━━━━━━╇━━━━━━━━━━━━━━━━━┩\n",
       "│ embedding (\u001b[38;5;33mEmbedding\u001b[0m)                │ (\u001b[38;5;45mNone\u001b[0m, \u001b[38;5;34m20\u001b[0m, \u001b[38;5;34m40\u001b[0m)              │         \u001b[38;5;34m200,000\u001b[0m │\n",
       "├──────────────────────────────────────┼─────────────────────────────┼─────────────────┤\n",
       "│ dropout (\u001b[38;5;33mDropout\u001b[0m)                    │ (\u001b[38;5;45mNone\u001b[0m, \u001b[38;5;34m20\u001b[0m, \u001b[38;5;34m40\u001b[0m)              │               \u001b[38;5;34m0\u001b[0m │\n",
       "├──────────────────────────────────────┼─────────────────────────────┼─────────────────┤\n",
       "│ gru (\u001b[38;5;33mGRU\u001b[0m)                            │ (\u001b[38;5;45mNone\u001b[0m, \u001b[38;5;34m100\u001b[0m)                 │          \u001b[38;5;34m42,600\u001b[0m │\n",
       "├──────────────────────────────────────┼─────────────────────────────┼─────────────────┤\n",
       "│ dropout_1 (\u001b[38;5;33mDropout\u001b[0m)                  │ (\u001b[38;5;45mNone\u001b[0m, \u001b[38;5;34m100\u001b[0m)                 │               \u001b[38;5;34m0\u001b[0m │\n",
       "├──────────────────────────────────────┼─────────────────────────────┼─────────────────┤\n",
       "│ dense (\u001b[38;5;33mDense\u001b[0m)                        │ (\u001b[38;5;45mNone\u001b[0m, \u001b[38;5;34m1\u001b[0m)                   │             \u001b[38;5;34m101\u001b[0m │\n",
       "└──────────────────────────────────────┴─────────────────────────────┴─────────────────┘\n"
      ]
     },
     "metadata": {},
     "output_type": "display_data"
    },
    {
     "data": {
      "text/html": [
       "<pre style=\"white-space:pre;overflow-x:auto;line-height:normal;font-family:Menlo,'DejaVu Sans Mono',consolas,'Courier New',monospace\"><span style=\"font-weight: bold\"> Total params: </span><span style=\"color: #00af00; text-decoration-color: #00af00\">242,701</span> (948.05 KB)\n",
       "</pre>\n"
      ],
      "text/plain": [
       "\u001b[1m Total params: \u001b[0m\u001b[38;5;34m242,701\u001b[0m (948.05 KB)\n"
      ]
     },
     "metadata": {},
     "output_type": "display_data"
    },
    {
     "data": {
      "text/html": [
       "<pre style=\"white-space:pre;overflow-x:auto;line-height:normal;font-family:Menlo,'DejaVu Sans Mono',consolas,'Courier New',monospace\"><span style=\"font-weight: bold\"> Trainable params: </span><span style=\"color: #00af00; text-decoration-color: #00af00\">242,701</span> (948.05 KB)\n",
       "</pre>\n"
      ],
      "text/plain": [
       "\u001b[1m Trainable params: \u001b[0m\u001b[38;5;34m242,701\u001b[0m (948.05 KB)\n"
      ]
     },
     "metadata": {},
     "output_type": "display_data"
    },
    {
     "data": {
      "text/html": [
       "<pre style=\"white-space:pre;overflow-x:auto;line-height:normal;font-family:Menlo,'DejaVu Sans Mono',consolas,'Courier New',monospace\"><span style=\"font-weight: bold\"> Non-trainable params: </span><span style=\"color: #00af00; text-decoration-color: #00af00\">0</span> (0.00 B)\n",
       "</pre>\n"
      ],
      "text/plain": [
       "\u001b[1m Non-trainable params: \u001b[0m\u001b[38;5;34m0\u001b[0m (0.00 B)\n"
      ]
     },
     "metadata": {},
     "output_type": "display_data"
    }
   ],
   "source": [
    "# Build GRU Model\n",
    "from tensorflow.keras.models import Sequential\n",
    "from tensorflow.keras.layers import Embedding, GRU, Dense, Dropout\n",
    "\n",
    "embedding_vector_features = 40\n",
    "\n",
    "model = Sequential([\n",
    "    Embedding(input_dim=voc_size, output_dim=embedding_vector_features, input_length=sent_length),\n",
    "    Dropout(0.3),\n",
    "    GRU(100),\n",
    "    Dropout(0.3),\n",
    "    Dense(1, activation='sigmoid')\n",
    "])\n",
    "\n",
    "model.compile(loss='binary_crossentropy', optimizer='adam', metrics=['accuracy'])\n",
    "\n",
    "# Build model to initialize parameters\n",
    "model.build(input_shape=(None, sent_length))\n",
    "model.summary()\n"
   ]
  },
  {
   "cell_type": "code",
   "execution_count": 6,
   "id": "df19ca54-4322-484e-9195-98d7a9efa742",
   "metadata": {},
   "outputs": [
    {
     "name": "stdout",
     "output_type": "stream",
     "text": [
      "Epoch 1/10\n",
      "\u001b[1m471/471\u001b[0m \u001b[32m━━━━━━━━━━━━━━━━━━━━\u001b[0m\u001b[37m\u001b[0m \u001b[1m26s\u001b[0m 42ms/step - accuracy: 0.9234 - loss: 0.1959 - val_accuracy: 0.9426 - val_loss: 0.1670\n",
      "Epoch 2/10\n",
      "\u001b[1m471/471\u001b[0m \u001b[32m━━━━━━━━━━━━━━━━━━━━\u001b[0m\u001b[37m\u001b[0m \u001b[1m19s\u001b[0m 41ms/step - accuracy: 0.9610 - loss: 0.1028 - val_accuracy: 0.9565 - val_loss: 0.1180\n",
      "Epoch 3/10\n",
      "\u001b[1m471/471\u001b[0m \u001b[32m━━━━━━━━━━━━━━━━━━━━\u001b[0m\u001b[37m\u001b[0m \u001b[1m19s\u001b[0m 39ms/step - accuracy: 0.9711 - loss: 0.0795 - val_accuracy: 0.9559 - val_loss: 0.1201\n",
      "Epoch 4/10\n",
      "\u001b[1m471/471\u001b[0m \u001b[32m━━━━━━━━━━━━━━━━━━━━\u001b[0m\u001b[37m\u001b[0m \u001b[1m19s\u001b[0m 39ms/step - accuracy: 0.9774 - loss: 0.0617 - val_accuracy: 0.9595 - val_loss: 0.1229\n",
      "Epoch 5/10\n",
      "\u001b[1m471/471\u001b[0m \u001b[32m━━━━━━━━━━━━━━━━━━━━\u001b[0m\u001b[37m\u001b[0m \u001b[1m19s\u001b[0m 40ms/step - accuracy: 0.9834 - loss: 0.0478 - val_accuracy: 0.9591 - val_loss: 0.1376\n",
      "Epoch 6/10\n",
      "\u001b[1m471/471\u001b[0m \u001b[32m━━━━━━━━━━━━━━━━━━━━\u001b[0m\u001b[37m\u001b[0m \u001b[1m18s\u001b[0m 38ms/step - accuracy: 0.9866 - loss: 0.0389 - val_accuracy: 0.9584 - val_loss: 0.1468\n",
      "Epoch 7/10\n",
      "\u001b[1m471/471\u001b[0m \u001b[32m━━━━━━━━━━━━━━━━━━━━\u001b[0m\u001b[37m\u001b[0m \u001b[1m18s\u001b[0m 38ms/step - accuracy: 0.9896 - loss: 0.0324 - val_accuracy: 0.9585 - val_loss: 0.1510\n",
      "Epoch 8/10\n",
      "\u001b[1m471/471\u001b[0m \u001b[32m━━━━━━━━━━━━━━━━━━━━\u001b[0m\u001b[37m\u001b[0m \u001b[1m18s\u001b[0m 37ms/step - accuracy: 0.9903 - loss: 0.0277 - val_accuracy: 0.9568 - val_loss: 0.1866\n",
      "Epoch 9/10\n",
      "\u001b[1m471/471\u001b[0m \u001b[32m━━━━━━━━━━━━━━━━━━━━\u001b[0m\u001b[37m\u001b[0m \u001b[1m18s\u001b[0m 38ms/step - accuracy: 0.9928 - loss: 0.0214 - val_accuracy: 0.9602 - val_loss: 0.1802\n",
      "Epoch 10/10\n",
      "\u001b[1m471/471\u001b[0m \u001b[32m━━━━━━━━━━━━━━━━━━━━\u001b[0m\u001b[37m\u001b[0m \u001b[1m18s\u001b[0m 38ms/step - accuracy: 0.9939 - loss: 0.0189 - val_accuracy: 0.9591 - val_loss: 0.1854\n"
     ]
    }
   ],
   "source": [
    "history = model.fit(X_train, y_train, validation_data=(X_test, y_test), epochs=10, batch_size=64)"
   ]
  },
  {
   "cell_type": "code",
   "execution_count": 7,
   "id": "595e8f62-c71c-4c10-8af6-2f0d78006d4e",
   "metadata": {},
   "outputs": [
    {
     "name": "stdout",
     "output_type": "stream",
     "text": [
      "\u001b[1m464/464\u001b[0m \u001b[32m━━━━━━━━━━━━━━━━━━━━\u001b[0m\u001b[37m\u001b[0m \u001b[1m5s\u001b[0m 10ms/step\n",
      "Confusion Matrix:\n",
      " [[7496  258]\n",
      " [ 348 6715]]\n",
      "\n",
      "Accuracy Score: 0.9591010325976919\n",
      "\n",
      "Classification Report:\n",
      "               precision    recall  f1-score   support\n",
      "\n",
      "           0       0.96      0.97      0.96      7754\n",
      "           1       0.96      0.95      0.96      7063\n",
      "\n",
      "    accuracy                           0.96     14817\n",
      "   macro avg       0.96      0.96      0.96     14817\n",
      "weighted avg       0.96      0.96      0.96     14817\n",
      "\n"
     ]
    }
   ],
   "source": [
    "# Evaluate Model & Predictions\n",
    "from sklearn.metrics import confusion_matrix, accuracy_score, classification_report\n",
    "import numpy as np\n",
    "\n",
    "# Predict\n",
    "y_pred = model.predict(X_test)\n",
    "y_pred = np.where(y_pred > 0.5, 1, 0)\n",
    "\n",
    "# Metrics\n",
    "print(\"Confusion Matrix:\\n\", confusion_matrix(y_test, y_pred))\n",
    "print(\"\\nAccuracy Score:\", accuracy_score(y_test, y_pred))\n",
    "print(\"\\nClassification Report:\\n\", classification_report(y_test, y_pred))\n"
   ]
  },
  {
   "cell_type": "code",
   "execution_count": 10,
   "id": "2d7fa958-42ec-4074-804e-b8cea9b13e8d",
   "metadata": {},
   "outputs": [
    {
     "name": "stdout",
     "output_type": "stream",
     "text": [
      "\u001b[1m1/1\u001b[0m \u001b[32m━━━━━━━━━━━━━━━━━━━━\u001b[0m\u001b[37m\u001b[0m \u001b[1m0s\u001b[0m 102ms/step\n",
      "================================================================================\n",
      "📰 News: Well, here s a Twitter post that backfired on Donald Trump.Over the weekend, billionaire Prince Alwaleed bin Talal, who owns a stake in Fox News, along with several other princes and former cabinet officials, were arrested for corruption by order of Crown Prince Mohammad bin Salman.Ironically, Trump...\n",
      "✅ Actual: Fake\n",
      " Predicted: Fake (prob: 0.00)\n",
      "\u001b[1m1/1\u001b[0m \u001b[32m━━━━━━━━━━━━━━━━━━━━\u001b[0m\u001b[37m\u001b[0m \u001b[1m0s\u001b[0m 108ms/step\n",
      "================================================================================\n",
      "📰 News: CHARLESTON, W. Va. (Reuters) - Don Blankenship, the former CEO of coal company Massey Energy who was recently released from jail after a sentence for violating mine safety laws, said on Wednesday he plans to run for U.S. Senate representing West Virginia. “It’s true,” he told Reuters in an email, wi...\n",
      "✅ Actual: True\n",
      " Predicted: True (prob: 0.98)\n",
      "\u001b[1m1/1\u001b[0m \u001b[32m━━━━━━━━━━━━━━━━━━━━\u001b[0m\u001b[37m\u001b[0m \u001b[1m0s\u001b[0m 93ms/step\n",
      "================================================================================\n",
      "📰 News: Legal Expert Jonathan Turley listened as Joe Scarborough laid out a lengthy timeline to make a case of obstruction on President Trump. His response is awesome and very precise in its reasons for not recommending obstruction charges. Turley is a Democrat but is a very fair legal expert who rules acco...\n",
      "✅ Actual: Fake\n",
      " Predicted: Fake (prob: 0.00)\n",
      "\u001b[1m1/1\u001b[0m \u001b[32m━━━━━━━━━━━━━━━━━━━━\u001b[0m\u001b[37m\u001b[0m \u001b[1m0s\u001b[0m 107ms/step\n",
      "================================================================================\n",
      "📰 News: WASHINGTON (Reuters) - The United States is aware of a higher-than-usual level of activity by Chinese bomber planes, signaling a possible heightened state of readiness, U.S. officials told Reuters on Thursday, but downplayed concerns and left open a range of possible reasons. None of the officials, ...\n",
      "✅ Actual: True\n",
      " Predicted: True (prob: 1.00)\n",
      "\u001b[1m1/1\u001b[0m \u001b[32m━━━━━━━━━━━━━━━━━━━━\u001b[0m\u001b[37m\u001b[0m \u001b[1m0s\u001b[0m 98ms/step\n",
      "================================================================================\n",
      "📰 News: KRAKOW, Poland (Reuters) - Demanding reparations from Germany for its actions in Poland during World War Two is a matter of honor for Warsaw, Jaroslaw Kaczynski, the leader of Polish ruling Law and Justice (PiS) party, said on Saturday.  The issue of reparations, revived by Poland s eurosceptic PiS ...\n",
      "✅ Actual: True\n",
      " Predicted: True (prob: 1.00)\n"
     ]
    }
   ],
   "source": [
    "# Sample Prediction Visualization\n",
    "import random\n",
    "\n",
    "indices = random.sample(range(len(X_test)), 5)\n",
    "\n",
    "for i in indices:\n",
    "    text = X.iloc[i]\n",
    "    true_label = y.iloc[i]\n",
    "    \n",
    "    pred_prob = model.predict(X_final[i].reshape(1, -1))[0][0]\n",
    "    pred_label = 1 if pred_prob > 0.5 else 0\n",
    "    \n",
    "    print(\"=\"*80)\n",
    "    print(f\"📰 News: {text[:300]}...\")\n",
    "    print(f\"✅ Actual: {'True' if true_label==1 else 'Fake'}\")\n",
    "    print(f\" Predicted: {'True' if pred_label==1 else 'Fake'} (prob: {pred_prob:.2f})\")\n"
   ]
  },
  {
   "cell_type": "markdown",
   "id": "2f7a6b6a-a3a9-4fd5-b095-11ad4454123e",
   "metadata": {},
   "source": [
    "GRU is simpler than LSTM, uses fewer parameters, and often trains faster.\n",
    "\n",
    "Rest of the workflow (preprocessing, padding, embedding, train/test split) is identical to the LSTM notebook."
   ]
  }
 ],
 "metadata": {
  "kernelspec": {
   "display_name": "Python 3 (ipykernel)",
   "language": "python",
   "name": "python3"
  },
  "language_info": {
   "codemirror_mode": {
    "name": "ipython",
    "version": 3
   },
   "file_extension": ".py",
   "mimetype": "text/x-python",
   "name": "python",
   "nbconvert_exporter": "python",
   "pygments_lexer": "ipython3",
   "version": "3.12.9"
  }
 },
 "nbformat": 4,
 "nbformat_minor": 5
}
