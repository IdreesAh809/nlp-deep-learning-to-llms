{
 "cells": [
  {
   "cell_type": "markdown",
   "id": "4e832875-1722-41f7-b6b5-8270fd318b70",
   "metadata": {},
   "source": [
    "# LSTM for Fake News Detection\n",
    "\n",
    "We will use **LSTM (Long Short-Term Memory)** networks to classify news as **Fake** or **Real**.  \n",
    "Dataset: [Fake and Real News Dataset on Kaggle](https://www.kaggle.com/datasets/clmentbisaillon/fake-and-real-news-dataset)\n",
    "\n",
    "---\n",
    "\n",
    "## 🔹 Limitation of Simple RNN\n",
    "- RNNs process text step by step but struggle with **long sentences**.  \n",
    "- They suffer from **vanishing gradients**, making it hard to remember earlier words.  \n",
    "- Example: In *\"The book I read yesterday was amazing\"*, RNN may forget the link between *book* and *amazing*.  \n",
    "\n",
    "---\n",
    "\n",
    "## 🔹 Why LSTM?\n",
    "- LSTM adds a **cell state** and **three gates** (forget, input, output).  \n",
    "- This helps it **remember important info longer** and avoid vanishing gradients.  \n",
    "- ✅ Works well for tasks like sentiment analysis, translation, and fake news detection.\n"
   ]
  },
  {
   "cell_type": "code",
   "execution_count": 1,
   "id": "0e98bce7-dcb7-44e2-b5f2-f3795037159c",
   "metadata": {},
   "outputs": [],
   "source": [
    "import pandas as pd\n",
    "\n",
    "# Load Fake and Real news CSVs\n",
    "fake_df = pd.read_csv('dataset/fake-news/Fake.csv')\n",
    "true_df = pd.read_csv('dataset/fake-news/True.csv')\n"
   ]
  },
  {
   "cell_type": "code",
   "execution_count": 6,
   "id": "3df2b11b-44bc-435f-8898-4d09c4f9bb68",
   "metadata": {},
   "outputs": [],
   "source": [
    "# Add label column: 0 = fake, 1 = real\n",
    "fake_df['label'] = 0\n",
    "true_df['label'] = 1"
   ]
  },
  {
   "cell_type": "code",
   "execution_count": 3,
   "id": "4cd79c25-73a6-4df2-9232-21d3a57fc728",
   "metadata": {},
   "outputs": [],
   "source": [
    "# Combine both dataframes\n",
    "df = pd.concat([fake_df, true_df], ignore_index=True)\n",
    "\n",
    "# Shuffle the dataset\n",
    "df = df.sample(frac=1, random_state=42).reset_index(drop=True)\n"
   ]
  },
  {
   "cell_type": "code",
   "execution_count": 4,
   "id": "ecfb8472-c77f-44cb-b430-145bc2fed21d",
   "metadata": {},
   "outputs": [
    {
     "data": {
      "text/html": [
       "<div>\n",
       "<style scoped>\n",
       "    .dataframe tbody tr th:only-of-type {\n",
       "        vertical-align: middle;\n",
       "    }\n",
       "\n",
       "    .dataframe tbody tr th {\n",
       "        vertical-align: top;\n",
       "    }\n",
       "\n",
       "    .dataframe thead th {\n",
       "        text-align: right;\n",
       "    }\n",
       "</style>\n",
       "<table border=\"1\" class=\"dataframe\">\n",
       "  <thead>\n",
       "    <tr style=\"text-align: right;\">\n",
       "      <th></th>\n",
       "      <th>text</th>\n",
       "      <th>label</th>\n",
       "    </tr>\n",
       "  </thead>\n",
       "  <tbody>\n",
       "    <tr>\n",
       "      <th>0</th>\n",
       "      <td>21st Century Wire says Ben Stein, reputable pr...</td>\n",
       "      <td>0</td>\n",
       "    </tr>\n",
       "    <tr>\n",
       "      <th>1</th>\n",
       "      <td>WASHINGTON (Reuters) - U.S. President Donald T...</td>\n",
       "      <td>1</td>\n",
       "    </tr>\n",
       "    <tr>\n",
       "      <th>2</th>\n",
       "      <td>(Reuters) - Puerto Rico Governor Ricardo Rosse...</td>\n",
       "      <td>1</td>\n",
       "    </tr>\n",
       "    <tr>\n",
       "      <th>3</th>\n",
       "      <td>On Monday, Donald Trump once again embarrassed...</td>\n",
       "      <td>0</td>\n",
       "    </tr>\n",
       "    <tr>\n",
       "      <th>4</th>\n",
       "      <td>GLASGOW, Scotland (Reuters) - Most U.S. presid...</td>\n",
       "      <td>1</td>\n",
       "    </tr>\n",
       "  </tbody>\n",
       "</table>\n",
       "</div>"
      ],
      "text/plain": [
       "                                                text  label\n",
       "0  21st Century Wire says Ben Stein, reputable pr...      0\n",
       "1  WASHINGTON (Reuters) - U.S. President Donald T...      1\n",
       "2  (Reuters) - Puerto Rico Governor Ricardo Rosse...      1\n",
       "3  On Monday, Donald Trump once again embarrassed...      0\n",
       "4  GLASGOW, Scotland (Reuters) - Most U.S. presid...      1"
      ]
     },
     "execution_count": 4,
     "metadata": {},
     "output_type": "execute_result"
    }
   ],
   "source": [
    "# Keep only 'text' and 'label' columns\n",
    "df = df[['text', 'label']]\n",
    "\n",
    "# Check first few rows\n",
    "df.head()"
   ]
  },
  {
   "cell_type": "code",
   "execution_count": 7,
   "id": "3ce87f3f-5f81-4d5c-ac92-3f2400f38050",
   "metadata": {},
   "outputs": [
    {
     "name": "stdout",
     "output_type": "stream",
     "text": [
      "Number of samples: 44898\n",
      "Number of labels: 44898\n"
     ]
    }
   ],
   "source": [
    "# Prepare Features and Labels\n",
    "# Independent feature\n",
    "X = df['text']\n",
    "\n",
    "# Dependent feature\n",
    "y = df['label']\n",
    "\n",
    "# Check shapes\n",
    "print(\"Number of samples:\", len(X))\n",
    "print(\"Number of labels:\", len(y))\n"
   ]
  },
  {
   "cell_type": "code",
   "execution_count": 8,
   "id": "500e6e63-7656-4607-8a87-485dfa92e9ad",
   "metadata": {},
   "outputs": [
    {
     "name": "stdout",
     "output_type": "stream",
     "text": [
      "[2001 4086  203 3468  314 3346 4451 4166 1068 3468 2836   65 4058 1981\n",
      " 4336  792 2352 4232 4279 2769]\n"
     ]
    }
   ],
   "source": [
    "# Text Preprocessing for LSTM\n",
    "from tensorflow.keras.preprocessing.text import one_hot\n",
    "from tensorflow.keras.preprocessing.sequence import pad_sequences\n",
    "\n",
    "# Vocabulary size\n",
    "voc_size = 5000\n",
    "\n",
    "# One-hot encode each sentence\n",
    "onehot_repr = [one_hot(words, voc_size) for words in X]\n",
    "\n",
    "# Set max sentence length for padding\n",
    "sent_length = 20\n",
    "\n",
    "# Pad sequences to have the same length\n",
    "embedded_docs = pad_sequences(onehot_repr, padding='post', maxlen=sent_length)\n",
    "\n",
    "# Check first padded sentence\n",
    "print(embedded_docs[0])\n"
   ]
  },
  {
   "cell_type": "code",
   "execution_count": 9,
   "id": "815ae386-99a0-4314-b126-cfd10efffc47",
   "metadata": {},
   "outputs": [
    {
     "name": "stdout",
     "output_type": "stream",
     "text": [
      "Training data shape: (30081, 20)\n",
      "Testing data shape: (14817, 20)\n"
     ]
    }
   ],
   "source": [
    "# Prepare Data for Model\n",
    "import numpy as np\n",
    "\n",
    "# Convert to numpy arrays\n",
    "X_final = np.array(embedded_docs)\n",
    "y_final = np.array(y)\n",
    "\n",
    "# Train-test split\n",
    "from sklearn.model_selection import train_test_split\n",
    "X_train, X_test, y_train, y_test = train_test_split(X_final, y_final, test_size=0.33, random_state=42)\n",
    "\n",
    "print(\"Training data shape:\", X_train.shape)\n",
    "print(\"Testing data shape:\", X_test.shape)\n"
   ]
  },
  {
   "cell_type": "code",
   "execution_count": 11,
   "id": "6963438e-ff47-4304-8182-243f8a75f817",
   "metadata": {},
   "outputs": [
    {
     "data": {
      "text/html": [
       "<pre style=\"white-space:pre;overflow-x:auto;line-height:normal;font-family:Menlo,'DejaVu Sans Mono',consolas,'Courier New',monospace\"><span style=\"font-weight: bold\">Model: \"sequential_1\"</span>\n",
       "</pre>\n"
      ],
      "text/plain": [
       "\u001b[1mModel: \"sequential_1\"\u001b[0m\n"
      ]
     },
     "metadata": {},
     "output_type": "display_data"
    },
    {
     "data": {
      "text/html": [
       "<pre style=\"white-space:pre;overflow-x:auto;line-height:normal;font-family:Menlo,'DejaVu Sans Mono',consolas,'Courier New',monospace\">┏━━━━━━━━━━━━━━━━━━━━━━━━━━━━━━━━━━━━━━┳━━━━━━━━━━━━━━━━━━━━━━━━━━━━━┳━━━━━━━━━━━━━━━━━┓\n",
       "┃<span style=\"font-weight: bold\"> Layer (type)                         </span>┃<span style=\"font-weight: bold\"> Output Shape                </span>┃<span style=\"font-weight: bold\">         Param # </span>┃\n",
       "┡━━━━━━━━━━━━━━━━━━━━━━━━━━━━━━━━━━━━━━╇━━━━━━━━━━━━━━━━━━━━━━━━━━━━━╇━━━━━━━━━━━━━━━━━┩\n",
       "│ embedding_1 (<span style=\"color: #0087ff; text-decoration-color: #0087ff\">Embedding</span>)              │ (<span style=\"color: #00d7ff; text-decoration-color: #00d7ff\">None</span>, <span style=\"color: #00af00; text-decoration-color: #00af00\">20</span>, <span style=\"color: #00af00; text-decoration-color: #00af00\">40</span>)              │         <span style=\"color: #00af00; text-decoration-color: #00af00\">200,000</span> │\n",
       "├──────────────────────────────────────┼─────────────────────────────┼─────────────────┤\n",
       "│ dropout_2 (<span style=\"color: #0087ff; text-decoration-color: #0087ff\">Dropout</span>)                  │ (<span style=\"color: #00d7ff; text-decoration-color: #00d7ff\">None</span>, <span style=\"color: #00af00; text-decoration-color: #00af00\">20</span>, <span style=\"color: #00af00; text-decoration-color: #00af00\">40</span>)              │               <span style=\"color: #00af00; text-decoration-color: #00af00\">0</span> │\n",
       "├──────────────────────────────────────┼─────────────────────────────┼─────────────────┤\n",
       "│ lstm_1 (<span style=\"color: #0087ff; text-decoration-color: #0087ff\">LSTM</span>)                        │ (<span style=\"color: #00d7ff; text-decoration-color: #00d7ff\">None</span>, <span style=\"color: #00af00; text-decoration-color: #00af00\">100</span>)                 │          <span style=\"color: #00af00; text-decoration-color: #00af00\">56,400</span> │\n",
       "├──────────────────────────────────────┼─────────────────────────────┼─────────────────┤\n",
       "│ dropout_3 (<span style=\"color: #0087ff; text-decoration-color: #0087ff\">Dropout</span>)                  │ (<span style=\"color: #00d7ff; text-decoration-color: #00d7ff\">None</span>, <span style=\"color: #00af00; text-decoration-color: #00af00\">100</span>)                 │               <span style=\"color: #00af00; text-decoration-color: #00af00\">0</span> │\n",
       "├──────────────────────────────────────┼─────────────────────────────┼─────────────────┤\n",
       "│ dense_1 (<span style=\"color: #0087ff; text-decoration-color: #0087ff\">Dense</span>)                      │ (<span style=\"color: #00d7ff; text-decoration-color: #00d7ff\">None</span>, <span style=\"color: #00af00; text-decoration-color: #00af00\">1</span>)                   │             <span style=\"color: #00af00; text-decoration-color: #00af00\">101</span> │\n",
       "└──────────────────────────────────────┴─────────────────────────────┴─────────────────┘\n",
       "</pre>\n"
      ],
      "text/plain": [
       "┏━━━━━━━━━━━━━━━━━━━━━━━━━━━━━━━━━━━━━━┳━━━━━━━━━━━━━━━━━━━━━━━━━━━━━┳━━━━━━━━━━━━━━━━━┓\n",
       "┃\u001b[1m \u001b[0m\u001b[1mLayer (type)                        \u001b[0m\u001b[1m \u001b[0m┃\u001b[1m \u001b[0m\u001b[1mOutput Shape               \u001b[0m\u001b[1m \u001b[0m┃\u001b[1m \u001b[0m\u001b[1m        Param #\u001b[0m\u001b[1m \u001b[0m┃\n",
       "┡━━━━━━━━━━━━━━━━━━━━━━━━━━━━━━━━━━━━━━╇━━━━━━━━━━━━━━━━━━━━━━━━━━━━━╇━━━━━━━━━━━━━━━━━┩\n",
       "│ embedding_1 (\u001b[38;5;33mEmbedding\u001b[0m)              │ (\u001b[38;5;45mNone\u001b[0m, \u001b[38;5;34m20\u001b[0m, \u001b[38;5;34m40\u001b[0m)              │         \u001b[38;5;34m200,000\u001b[0m │\n",
       "├──────────────────────────────────────┼─────────────────────────────┼─────────────────┤\n",
       "│ dropout_2 (\u001b[38;5;33mDropout\u001b[0m)                  │ (\u001b[38;5;45mNone\u001b[0m, \u001b[38;5;34m20\u001b[0m, \u001b[38;5;34m40\u001b[0m)              │               \u001b[38;5;34m0\u001b[0m │\n",
       "├──────────────────────────────────────┼─────────────────────────────┼─────────────────┤\n",
       "│ lstm_1 (\u001b[38;5;33mLSTM\u001b[0m)                        │ (\u001b[38;5;45mNone\u001b[0m, \u001b[38;5;34m100\u001b[0m)                 │          \u001b[38;5;34m56,400\u001b[0m │\n",
       "├──────────────────────────────────────┼─────────────────────────────┼─────────────────┤\n",
       "│ dropout_3 (\u001b[38;5;33mDropout\u001b[0m)                  │ (\u001b[38;5;45mNone\u001b[0m, \u001b[38;5;34m100\u001b[0m)                 │               \u001b[38;5;34m0\u001b[0m │\n",
       "├──────────────────────────────────────┼─────────────────────────────┼─────────────────┤\n",
       "│ dense_1 (\u001b[38;5;33mDense\u001b[0m)                      │ (\u001b[38;5;45mNone\u001b[0m, \u001b[38;5;34m1\u001b[0m)                   │             \u001b[38;5;34m101\u001b[0m │\n",
       "└──────────────────────────────────────┴─────────────────────────────┴─────────────────┘\n"
      ]
     },
     "metadata": {},
     "output_type": "display_data"
    },
    {
     "data": {
      "text/html": [
       "<pre style=\"white-space:pre;overflow-x:auto;line-height:normal;font-family:Menlo,'DejaVu Sans Mono',consolas,'Courier New',monospace\"><span style=\"font-weight: bold\"> Total params: </span><span style=\"color: #00af00; text-decoration-color: #00af00\">256,501</span> (1001.96 KB)\n",
       "</pre>\n"
      ],
      "text/plain": [
       "\u001b[1m Total params: \u001b[0m\u001b[38;5;34m256,501\u001b[0m (1001.96 KB)\n"
      ]
     },
     "metadata": {},
     "output_type": "display_data"
    },
    {
     "data": {
      "text/html": [
       "<pre style=\"white-space:pre;overflow-x:auto;line-height:normal;font-family:Menlo,'DejaVu Sans Mono',consolas,'Courier New',monospace\"><span style=\"font-weight: bold\"> Trainable params: </span><span style=\"color: #00af00; text-decoration-color: #00af00\">256,501</span> (1001.96 KB)\n",
       "</pre>\n"
      ],
      "text/plain": [
       "\u001b[1m Trainable params: \u001b[0m\u001b[38;5;34m256,501\u001b[0m (1001.96 KB)\n"
      ]
     },
     "metadata": {},
     "output_type": "display_data"
    },
    {
     "data": {
      "text/html": [
       "<pre style=\"white-space:pre;overflow-x:auto;line-height:normal;font-family:Menlo,'DejaVu Sans Mono',consolas,'Courier New',monospace\"><span style=\"font-weight: bold\"> Non-trainable params: </span><span style=\"color: #00af00; text-decoration-color: #00af00\">0</span> (0.00 B)\n",
       "</pre>\n"
      ],
      "text/plain": [
       "\u001b[1m Non-trainable params: \u001b[0m\u001b[38;5;34m0\u001b[0m (0.00 B)\n"
      ]
     },
     "metadata": {},
     "output_type": "display_data"
    }
   ],
   "source": [
    "# Build the model\n",
    "model = Sequential()\n",
    "model.add(Embedding(voc_size, embedding_vector_features, input_length=sent_length))\n",
    "model.add(Dropout(0.3))\n",
    "model.add(LSTM(100))\n",
    "model.add(Dropout(0.3))\n",
    "model.add(Dense(1, activation='sigmoid'))\n",
    "\n",
    "# Compile\n",
    "model.compile(loss='binary_crossentropy', optimizer='adam', metrics=['accuracy'])\n",
    "\n",
    "# 👇 Force build with expected input shape\n",
    "model.build(input_shape=(None, sent_length))\n",
    "\n",
    "# Summary\n",
    "model.summary()\n"
   ]
  },
  {
   "cell_type": "code",
   "execution_count": 12,
   "id": "fff6f446-9a34-4ba2-97bf-01a62b223dd2",
   "metadata": {},
   "outputs": [
    {
     "name": "stdout",
     "output_type": "stream",
     "text": [
      "Epoch 1/10\n",
      "\u001b[1m471/471\u001b[0m \u001b[32m━━━━━━━━━━━━━━━━━━━━\u001b[0m\u001b[37m\u001b[0m \u001b[1m21s\u001b[0m 36ms/step - accuracy: 0.9104 - loss: 0.2103 - val_accuracy: 0.9519 - val_loss: 0.1243\n",
      "Epoch 2/10\n",
      "\u001b[1m471/471\u001b[0m \u001b[32m━━━━━━━━━━━━━━━━━━━━\u001b[0m\u001b[37m\u001b[0m \u001b[1m18s\u001b[0m 38ms/step - accuracy: 0.9586 - loss: 0.1086 - val_accuracy: 0.9490 - val_loss: 0.1365\n",
      "Epoch 3/10\n",
      "\u001b[1m471/471\u001b[0m \u001b[32m━━━━━━━━━━━━━━━━━━━━\u001b[0m\u001b[37m\u001b[0m \u001b[1m16s\u001b[0m 34ms/step - accuracy: 0.9683 - loss: 0.0869 - val_accuracy: 0.9548 - val_loss: 0.1266\n",
      "Epoch 4/10\n",
      "\u001b[1m471/471\u001b[0m \u001b[32m━━━━━━━━━━━━━━━━━━━━\u001b[0m\u001b[37m\u001b[0m \u001b[1m16s\u001b[0m 33ms/step - accuracy: 0.9750 - loss: 0.0709 - val_accuracy: 0.9566 - val_loss: 0.1280\n",
      "Epoch 5/10\n",
      "\u001b[1m471/471\u001b[0m \u001b[32m━━━━━━━━━━━━━━━━━━━━\u001b[0m\u001b[37m\u001b[0m \u001b[1m17s\u001b[0m 35ms/step - accuracy: 0.9808 - loss: 0.0555 - val_accuracy: 0.9557 - val_loss: 0.1329\n",
      "Epoch 6/10\n",
      "\u001b[1m471/471\u001b[0m \u001b[32m━━━━━━━━━━━━━━━━━━━━\u001b[0m\u001b[37m\u001b[0m \u001b[1m16s\u001b[0m 34ms/step - accuracy: 0.9860 - loss: 0.0411 - val_accuracy: 0.9562 - val_loss: 0.1476\n",
      "Epoch 7/10\n",
      "\u001b[1m471/471\u001b[0m \u001b[32m━━━━━━━━━━━━━━━━━━━━\u001b[0m\u001b[37m\u001b[0m \u001b[1m15s\u001b[0m 32ms/step - accuracy: 0.9892 - loss: 0.0331 - val_accuracy: 0.9571 - val_loss: 0.1517\n",
      "Epoch 8/10\n",
      "\u001b[1m471/471\u001b[0m \u001b[32m━━━━━━━━━━━━━━━━━━━━\u001b[0m\u001b[37m\u001b[0m \u001b[1m15s\u001b[0m 32ms/step - accuracy: 0.9915 - loss: 0.0254 - val_accuracy: 0.9586 - val_loss: 0.1570\n",
      "Epoch 9/10\n",
      "\u001b[1m471/471\u001b[0m \u001b[32m━━━━━━━━━━━━━━━━━━━━\u001b[0m\u001b[37m\u001b[0m \u001b[1m15s\u001b[0m 33ms/step - accuracy: 0.9930 - loss: 0.0206 - val_accuracy: 0.9578 - val_loss: 0.1756\n",
      "Epoch 10/10\n",
      "\u001b[1m471/471\u001b[0m \u001b[32m━━━━━━━━━━━━━━━━━━━━\u001b[0m\u001b[37m\u001b[0m \u001b[1m16s\u001b[0m 34ms/step - accuracy: 0.9949 - loss: 0.0164 - val_accuracy: 0.9522 - val_loss: 0.1990\n"
     ]
    }
   ],
   "source": [
    "# Train the model\n",
    "history = model.fit(X_train, y_train, validation_data=(X_test, y_test), epochs=10, batch_size=64)\n"
   ]
  },
  {
   "cell_type": "code",
   "execution_count": 14,
   "id": "30336f83-caf8-4917-87d4-0f85158a0f75",
   "metadata": {},
   "outputs": [
    {
     "name": "stdout",
     "output_type": "stream",
     "text": [
      "\u001b[1m464/464\u001b[0m \u001b[32m━━━━━━━━━━━━━━━━━━━━\u001b[0m\u001b[37m\u001b[0m \u001b[1m3s\u001b[0m 7ms/step\n",
      "Confusion Matrix:\n",
      " [[7506  248]\n",
      " [ 460 6603]]\n",
      "\n",
      "Accuracy Score: 0.9522170479854222\n",
      "\n",
      "Classification Report:\n",
      "               precision    recall  f1-score   support\n",
      "\n",
      "           0       0.94      0.97      0.95      7754\n",
      "           1       0.96      0.93      0.95      7063\n",
      "\n",
      "    accuracy                           0.95     14817\n",
      "   macro avg       0.95      0.95      0.95     14817\n",
      "weighted avg       0.95      0.95      0.95     14817\n",
      "\n"
     ]
    }
   ],
   "source": [
    "# Predict on test data\n",
    "y_pred = model.predict(X_test)\n",
    "y_pred = np.where(y_pred > 0.5, 1, 0)  # threshold 0.5\n",
    "\n",
    "# Metrics\n",
    "from sklearn.metrics import confusion_matrix, accuracy_score, classification_report\n",
    "\n",
    "print(\"Confusion Matrix:\\n\", confusion_matrix(y_test, y_pred))\n",
    "print(\"\\nAccuracy Score:\", accuracy_score(y_test, y_pred))\n",
    "print(\"\\nClassification Report:\\n\", classification_report(y_test, y_pred))\n"
   ]
  },
  {
   "cell_type": "code",
   "execution_count": 18,
   "id": "10019015-c442-43aa-a4eb-42cd519b87ae",
   "metadata": {},
   "outputs": [
    {
     "name": "stdout",
     "output_type": "stream",
     "text": [
      "\u001b[1m1/1\u001b[0m \u001b[32m━━━━━━━━━━━━━━━━━━━━\u001b[0m\u001b[37m\u001b[0m \u001b[1m0s\u001b[0m 86ms/step\n",
      "================================================================================\n",
      "📰 News: CLEARWATER, Fla. (Reuters) - While U.S. President Donald Trump tried to win over skeptics in Congress on Tuesday, he never had to worry about losing the faithful at the Quaker Steak and Lube. About two dozen fans of the 45th president gathered at the bar and restaurant in Clearwater, Florida, still ...\n",
      "✅ Actual: True\n",
      " Predicted: True (prob: 1.00)\n",
      "\u001b[1m1/1\u001b[0m \u001b[32m━━━━━━━━━━━━━━━━━━━━\u001b[0m\u001b[37m\u001b[0m \u001b[1m0s\u001b[0m 75ms/step\n",
      "================================================================================\n",
      "📰 News: NEW YORK (Reuters) - Republican presidential candidate Ben Carson’s comments that President Barack Obama was “raised white” prompted backlash on social media on Tuesday, with many users criticizing the neurosurgeon for stereotyping the experience of African-Americans. Carson, who is black and grew u...\n",
      "✅ Actual: True\n",
      " Predicted: True (prob: 1.00)\n",
      "\u001b[1m1/1\u001b[0m \u001b[32m━━━━━━━━━━━━━━━━━━━━\u001b[0m\u001b[37m\u001b[0m \u001b[1m0s\u001b[0m 82ms/step\n",
      "================================================================================\n",
      "📰 News: WASHINGTON (Reuters) - For the moment, U.S. President Donald Trump is going it alone. After weeks of seeing his agenda imperiled by Republican divisions and infighting among his aides, Trump has been a whirl of activity this week, reasserting his campaign priorities and trying to deliver wins for hi...\n",
      "✅ Actual: True\n",
      " Predicted: True (prob: 1.00)\n",
      "\u001b[1m1/1\u001b[0m \u001b[32m━━━━━━━━━━━━━━━━━━━━\u001b[0m\u001b[37m\u001b[0m \u001b[1m0s\u001b[0m 84ms/step\n",
      "================================================================================\n",
      "📰 News: Joe Biden is an adult, so he treated Donald Trump the way adults treat petulant children.On Thursday morning, Trump personally and publicly insulted Senate Minority Leader Chuck Schumer by calling him a  clown,  and threw a fit because Democrats are not helping Republicans repeal Obamacare, a move t...\n",
      "✅ Actual: Fake\n",
      " Predicted: Fake (prob: 0.00)\n",
      "\u001b[1m1/1\u001b[0m \u001b[32m━━━━━━━━━━━━━━━━━━━━\u001b[0m\u001b[37m\u001b[0m \u001b[1m0s\u001b[0m 84ms/step\n",
      "================================================================================\n",
      "📰 News: WASHINGTON (Reuters) - U.S. Republican presidential candidate Donald Trump on Thursday said he will reopen the controversial Trump University real estate school at the close of litigation.  “I have instructed my execs to open Trump U (University), so much interest in it! I will be pres (president),”...\n",
      "✅ Actual: True\n",
      " Predicted: True (prob: 1.00)\n"
     ]
    }
   ],
   "source": [
    "import random\n",
    "import numpy as np\n",
    "\n",
    "# Pick 5 random samples from test set\n",
    "indices = random.sample(range(len(X_test)), 5)\n",
    "\n",
    "for i in indices:\n",
    "    # Get original text from X (just a string, not DataFrame with 'title')\n",
    "    text = X.iloc[i]   # Directly use iloc because it's a Series\n",
    "    true_label = y.iloc[i]\n",
    "    \n",
    "    # Predict using model\n",
    "    pred_prob = model.predict(X_final[i].reshape(1, -1))[0][0]\n",
    "    pred_label = 1 if pred_prob > 0.5 else 0\n",
    "    \n",
    "    print(\"=\"*80)\n",
    "    print(f\"📰 News: {text[:300]}...\")   # show first 300 chars\n",
    "    print(f\"✅ Actual: {'True' if true_label==1 else 'Fake'}\")\n",
    "    print(f\" Predicted: {'True' if pred_label==1 else 'Fake'} (prob: {pred_prob:.2f})\")\n"
   ]
  },
  {
   "cell_type": "markdown",
   "id": "946468a3-374a-41d2-9e22-2370e96b2be8",
   "metadata": {},
   "source": [
    "### Key Points:\n",
    "\n",
    "- LSTM can **handle long sequences** better than vanilla RNNs.\n",
    "- Our model achieved a **reasonable accuracy** on the Fake/Real News dataset.\n",
    "- Next steps:\n",
    "  - Use **larger embedding size** or **pre-trained embeddings** like GloVe.\n",
    "  - Try **bidirectional LSTM** for better context understanding.\n",
    "  - Experiment with **more epochs** or **different batch sizes**.\n"
   ]
  },
  {
   "cell_type": "code",
   "execution_count": null,
   "id": "0ed488ed-fdd8-4af3-876d-00ca609e50a6",
   "metadata": {},
   "outputs": [],
   "source": []
  }
 ],
 "metadata": {
  "kernelspec": {
   "display_name": "Python 3 (ipykernel)",
   "language": "python",
   "name": "python3"
  },
  "language_info": {
   "codemirror_mode": {
    "name": "ipython",
    "version": 3
   },
   "file_extension": ".py",
   "mimetype": "text/x-python",
   "name": "python",
   "nbconvert_exporter": "python",
   "pygments_lexer": "ipython3",
   "version": "3.12.9"
  }
 },
 "nbformat": 4,
 "nbformat_minor": 5
}
