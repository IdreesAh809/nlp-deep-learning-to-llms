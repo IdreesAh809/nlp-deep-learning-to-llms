{
 "cells": [
  {
   "cell_type": "markdown",
   "id": "6bdf498f-d3f4-43bd-a8d8-0740e7dfe17f",
   "metadata": {},
   "source": [
    "# Sentiment Analysis with RNN\n",
    "\n",
    "## Introduction\n",
    "In this notebook, we build a **Recurrent Neural Network (RNN)** to classify tweet sentiments as positive or negative.  \n",
    "\n",
    "RNNs are suitable for sequential data like text because they maintain a **memory of previous words** in the sequence, helping the model understand context.  \n",
    "\n",
    "This notebook will guide you step by step: loading data, preprocessing text, building the RNN model, training, evaluating, and making predictions.\n",
    "\n",
    "## Why RNN?\n",
    "- RNNs are designed for **sequence data** like sentences or tweets.\n",
    "- They maintain **hidden states** to capture previous word context.\n",
    "- Ideal for small to medium text classification tasks before moving to Transformers.\n",
    "\n",
    "## Dataset\n",
    "We use the **Sentiment140 dataset**:\n",
    "\n",
    "- **Path in project:** `dataset/training.1600000.processed.noemoticon.csv`\n",
    "- **Kaggle link:** [Sentiment140](https://www.kaggle.com/datasets/kazanova/sentiment140)\n",
    "- **Columns:**\n",
    "  - `0`: sentiment (0 = negative, 4 = positive)\n",
    "  - `5`: tweet text\n",
    "\n",
    "We will **sample a smaller portion** of the dataset for faster training.\n",
    "\n",
    "## Steps\n",
    "1. Load the dataset  \n",
    "2. Preprocess the tweets  \n",
    "3. Encode labels  \n",
    "4. Tokenize and pad sequences  \n",
    "5. Build the RNN model  \n",
    "6. Train and evaluate the model  \n",
    "7. Test predictions on sample tweets  \n"
   ]
  },
  {
   "cell_type": "code",
   "execution_count": 1,
   "id": "240485d4-72ff-452f-a669-b85b751f4677",
   "metadata": {},
   "outputs": [],
   "source": [
    "# Import libraries\n",
    "import pandas as pd\n",
    "import numpy as np\n",
    "from tensorflow.keras.preprocessing.text import Tokenizer\n",
    "from tensorflow.keras.preprocessing.sequence import pad_sequences\n",
    "from tensorflow.keras.models import Sequential\n",
    "from tensorflow.keras.layers import Embedding, SimpleRNN, Dense\n",
    "from sklearn.model_selection import train_test_split"
   ]
  },
  {
   "cell_type": "code",
   "execution_count": 2,
   "id": "2e9e6536-d568-41de-bf4d-19ed61528c2c",
   "metadata": {
    "jupyter": {
     "source_hidden": true
    }
   },
   "outputs": [
    {
     "name": "stdout",
     "output_type": "stream",
     "text": [
      "Shape: (1600000, 6)\n"
     ]
    },
    {
     "data": {
      "text/html": [
       "<div>\n",
       "<style scoped>\n",
       "    .dataframe tbody tr th:only-of-type {\n",
       "        vertical-align: middle;\n",
       "    }\n",
       "\n",
       "    .dataframe tbody tr th {\n",
       "        vertical-align: top;\n",
       "    }\n",
       "\n",
       "    .dataframe thead th {\n",
       "        text-align: right;\n",
       "    }\n",
       "</style>\n",
       "<table border=\"1\" class=\"dataframe\">\n",
       "  <thead>\n",
       "    <tr style=\"text-align: right;\">\n",
       "      <th></th>\n",
       "      <th>sentiment</th>\n",
       "      <th>id</th>\n",
       "      <th>date</th>\n",
       "      <th>flag</th>\n",
       "      <th>user</th>\n",
       "      <th>text</th>\n",
       "    </tr>\n",
       "  </thead>\n",
       "  <tbody>\n",
       "    <tr>\n",
       "      <th>0</th>\n",
       "      <td>0</td>\n",
       "      <td>1467810369</td>\n",
       "      <td>Mon Apr 06 22:19:45 PDT 2009</td>\n",
       "      <td>NO_QUERY</td>\n",
       "      <td>_TheSpecialOne_</td>\n",
       "      <td>@switchfoot http://twitpic.com/2y1zl - Awww, t...</td>\n",
       "    </tr>\n",
       "    <tr>\n",
       "      <th>1</th>\n",
       "      <td>0</td>\n",
       "      <td>1467810672</td>\n",
       "      <td>Mon Apr 06 22:19:49 PDT 2009</td>\n",
       "      <td>NO_QUERY</td>\n",
       "      <td>scotthamilton</td>\n",
       "      <td>is upset that he can't update his Facebook by ...</td>\n",
       "    </tr>\n",
       "    <tr>\n",
       "      <th>2</th>\n",
       "      <td>0</td>\n",
       "      <td>1467810917</td>\n",
       "      <td>Mon Apr 06 22:19:53 PDT 2009</td>\n",
       "      <td>NO_QUERY</td>\n",
       "      <td>mattycus</td>\n",
       "      <td>@Kenichan I dived many times for the ball. Man...</td>\n",
       "    </tr>\n",
       "    <tr>\n",
       "      <th>3</th>\n",
       "      <td>0</td>\n",
       "      <td>1467811184</td>\n",
       "      <td>Mon Apr 06 22:19:57 PDT 2009</td>\n",
       "      <td>NO_QUERY</td>\n",
       "      <td>ElleCTF</td>\n",
       "      <td>my whole body feels itchy and like its on fire</td>\n",
       "    </tr>\n",
       "    <tr>\n",
       "      <th>4</th>\n",
       "      <td>0</td>\n",
       "      <td>1467811193</td>\n",
       "      <td>Mon Apr 06 22:19:57 PDT 2009</td>\n",
       "      <td>NO_QUERY</td>\n",
       "      <td>Karoli</td>\n",
       "      <td>@nationwideclass no, it's not behaving at all....</td>\n",
       "    </tr>\n",
       "    <tr>\n",
       "      <th>5</th>\n",
       "      <td>0</td>\n",
       "      <td>1467811372</td>\n",
       "      <td>Mon Apr 06 22:20:00 PDT 2009</td>\n",
       "      <td>NO_QUERY</td>\n",
       "      <td>joy_wolf</td>\n",
       "      <td>@Kwesidei not the whole crew</td>\n",
       "    </tr>\n",
       "    <tr>\n",
       "      <th>6</th>\n",
       "      <td>0</td>\n",
       "      <td>1467811592</td>\n",
       "      <td>Mon Apr 06 22:20:03 PDT 2009</td>\n",
       "      <td>NO_QUERY</td>\n",
       "      <td>mybirch</td>\n",
       "      <td>Need a hug</td>\n",
       "    </tr>\n",
       "    <tr>\n",
       "      <th>7</th>\n",
       "      <td>0</td>\n",
       "      <td>1467811594</td>\n",
       "      <td>Mon Apr 06 22:20:03 PDT 2009</td>\n",
       "      <td>NO_QUERY</td>\n",
       "      <td>coZZ</td>\n",
       "      <td>@LOLTrish hey  long time no see! Yes.. Rains a...</td>\n",
       "    </tr>\n",
       "  </tbody>\n",
       "</table>\n",
       "</div>"
      ],
      "text/plain": [
       "   sentiment          id                          date      flag  \\\n",
       "0          0  1467810369  Mon Apr 06 22:19:45 PDT 2009  NO_QUERY   \n",
       "1          0  1467810672  Mon Apr 06 22:19:49 PDT 2009  NO_QUERY   \n",
       "2          0  1467810917  Mon Apr 06 22:19:53 PDT 2009  NO_QUERY   \n",
       "3          0  1467811184  Mon Apr 06 22:19:57 PDT 2009  NO_QUERY   \n",
       "4          0  1467811193  Mon Apr 06 22:19:57 PDT 2009  NO_QUERY   \n",
       "5          0  1467811372  Mon Apr 06 22:20:00 PDT 2009  NO_QUERY   \n",
       "6          0  1467811592  Mon Apr 06 22:20:03 PDT 2009  NO_QUERY   \n",
       "7          0  1467811594  Mon Apr 06 22:20:03 PDT 2009  NO_QUERY   \n",
       "\n",
       "              user                                               text  \n",
       "0  _TheSpecialOne_  @switchfoot http://twitpic.com/2y1zl - Awww, t...  \n",
       "1    scotthamilton  is upset that he can't update his Facebook by ...  \n",
       "2         mattycus  @Kenichan I dived many times for the ball. Man...  \n",
       "3          ElleCTF    my whole body feels itchy and like its on fire   \n",
       "4           Karoli  @nationwideclass no, it's not behaving at all....  \n",
       "5         joy_wolf                      @Kwesidei not the whole crew   \n",
       "6          mybirch                                        Need a hug   \n",
       "7             coZZ  @LOLTrish hey  long time no see! Yes.. Rains a...  "
      ]
     },
     "metadata": {},
     "output_type": "display_data"
    }
   ],
   "source": [
    "# Step 1: Load the dataset\n",
    "import pandas as pd\n",
    "\n",
    "# Load CSV (no header, latin-1 encoding)\n",
    "df = pd.read_csv(\n",
    "    \"dataset/training.1600000.processed.noemoticon.csv\",\n",
    "    encoding=\"latin-1\", header=None\n",
    ")\n",
    "\n",
    "# Quick inspection\n",
    "print(\"Shape:\", df.shape)\n",
    "\n",
    "# Keep only first 6 columns (we need sentiment + text mainly)\n",
    "df = df.iloc[:, :6]\n",
    "df.columns = ['sentiment', 'id', 'date', 'flag', 'user', 'text']\n",
    "\n",
    "# Display first few rows\n",
    "display(df.head(8))\n"
   ]
  },
  {
   "cell_type": "markdown",
   "id": "e1677a2d-b6bf-496c-bba5-a7914dc09a99",
   "metadata": {},
   "source": [
    "# Step 2 — Raw Visualization & Simple EDA\n",
    "\n",
    "What this cell does (plain words):\n",
    "- Shows how many positive vs negative tweets there are.\n",
    "- Displays a few raw example tweets from each class (no cleaning yet).\n",
    "- Computes basic tweet-length stats (words per tweet) and shows a histogram.\n",
    "- Finds top words (simple token counts) on a smaller sample for speed.\n",
    "- Reports a recommended `maxlen` (95th percentile of words) for later tokenization.\n",
    "\n",
    "Notes:\n",
    "- We will use a **sample** (default 50k) for the heavier visualizations so the notebook runs fast.\n",
    "- If `df` is not present in memory (you didn't run the load cell), the code will load only the necessary columns from the CSV.\n"
   ]
  },
  {
   "cell_type": "code",
   "execution_count": 3,
   "id": "3533c8f3-0d25-4c73-9fdf-5901825d48e0",
   "metadata": {
    "scrolled": true
   },
   "outputs": [
    {
     "name": "stdout",
     "output_type": "stream",
     "text": [
      "Shape: (1600000, 6)\n"
     ]
    },
    {
     "data": {
      "text/html": [
       "<div>\n",
       "<style scoped>\n",
       "    .dataframe tbody tr th:only-of-type {\n",
       "        vertical-align: middle;\n",
       "    }\n",
       "\n",
       "    .dataframe tbody tr th {\n",
       "        vertical-align: top;\n",
       "    }\n",
       "\n",
       "    .dataframe thead th {\n",
       "        text-align: right;\n",
       "    }\n",
       "</style>\n",
       "<table border=\"1\" class=\"dataframe\">\n",
       "  <thead>\n",
       "    <tr style=\"text-align: right;\">\n",
       "      <th></th>\n",
       "      <th>sentiment</th>\n",
       "      <th>id</th>\n",
       "      <th>date</th>\n",
       "      <th>flag</th>\n",
       "      <th>user</th>\n",
       "      <th>text</th>\n",
       "    </tr>\n",
       "  </thead>\n",
       "  <tbody>\n",
       "    <tr>\n",
       "      <th>0</th>\n",
       "      <td>0</td>\n",
       "      <td>1467810369</td>\n",
       "      <td>Mon Apr 06 22:19:45 PDT 2009</td>\n",
       "      <td>NO_QUERY</td>\n",
       "      <td>_TheSpecialOne_</td>\n",
       "      <td>@switchfoot http://twitpic.com/2y1zl - Awww, t...</td>\n",
       "    </tr>\n",
       "    <tr>\n",
       "      <th>1</th>\n",
       "      <td>0</td>\n",
       "      <td>1467810672</td>\n",
       "      <td>Mon Apr 06 22:19:49 PDT 2009</td>\n",
       "      <td>NO_QUERY</td>\n",
       "      <td>scotthamilton</td>\n",
       "      <td>is upset that he can't update his Facebook by ...</td>\n",
       "    </tr>\n",
       "    <tr>\n",
       "      <th>2</th>\n",
       "      <td>0</td>\n",
       "      <td>1467810917</td>\n",
       "      <td>Mon Apr 06 22:19:53 PDT 2009</td>\n",
       "      <td>NO_QUERY</td>\n",
       "      <td>mattycus</td>\n",
       "      <td>@Kenichan I dived many times for the ball. Man...</td>\n",
       "    </tr>\n",
       "    <tr>\n",
       "      <th>3</th>\n",
       "      <td>0</td>\n",
       "      <td>1467811184</td>\n",
       "      <td>Mon Apr 06 22:19:57 PDT 2009</td>\n",
       "      <td>NO_QUERY</td>\n",
       "      <td>ElleCTF</td>\n",
       "      <td>my whole body feels itchy and like its on fire</td>\n",
       "    </tr>\n",
       "    <tr>\n",
       "      <th>4</th>\n",
       "      <td>0</td>\n",
       "      <td>1467811193</td>\n",
       "      <td>Mon Apr 06 22:19:57 PDT 2009</td>\n",
       "      <td>NO_QUERY</td>\n",
       "      <td>Karoli</td>\n",
       "      <td>@nationwideclass no, it's not behaving at all....</td>\n",
       "    </tr>\n",
       "    <tr>\n",
       "      <th>5</th>\n",
       "      <td>0</td>\n",
       "      <td>1467811372</td>\n",
       "      <td>Mon Apr 06 22:20:00 PDT 2009</td>\n",
       "      <td>NO_QUERY</td>\n",
       "      <td>joy_wolf</td>\n",
       "      <td>@Kwesidei not the whole crew</td>\n",
       "    </tr>\n",
       "    <tr>\n",
       "      <th>6</th>\n",
       "      <td>0</td>\n",
       "      <td>1467811592</td>\n",
       "      <td>Mon Apr 06 22:20:03 PDT 2009</td>\n",
       "      <td>NO_QUERY</td>\n",
       "      <td>mybirch</td>\n",
       "      <td>Need a hug</td>\n",
       "    </tr>\n",
       "    <tr>\n",
       "      <th>7</th>\n",
       "      <td>0</td>\n",
       "      <td>1467811594</td>\n",
       "      <td>Mon Apr 06 22:20:03 PDT 2009</td>\n",
       "      <td>NO_QUERY</td>\n",
       "      <td>coZZ</td>\n",
       "      <td>@LOLTrish hey  long time no see! Yes.. Rains a...</td>\n",
       "    </tr>\n",
       "  </tbody>\n",
       "</table>\n",
       "</div>"
      ],
      "text/plain": [
       "   sentiment          id                          date      flag  \\\n",
       "0          0  1467810369  Mon Apr 06 22:19:45 PDT 2009  NO_QUERY   \n",
       "1          0  1467810672  Mon Apr 06 22:19:49 PDT 2009  NO_QUERY   \n",
       "2          0  1467810917  Mon Apr 06 22:19:53 PDT 2009  NO_QUERY   \n",
       "3          0  1467811184  Mon Apr 06 22:19:57 PDT 2009  NO_QUERY   \n",
       "4          0  1467811193  Mon Apr 06 22:19:57 PDT 2009  NO_QUERY   \n",
       "5          0  1467811372  Mon Apr 06 22:20:00 PDT 2009  NO_QUERY   \n",
       "6          0  1467811592  Mon Apr 06 22:20:03 PDT 2009  NO_QUERY   \n",
       "7          0  1467811594  Mon Apr 06 22:20:03 PDT 2009  NO_QUERY   \n",
       "\n",
       "              user                                               text  \n",
       "0  _TheSpecialOne_  @switchfoot http://twitpic.com/2y1zl - Awww, t...  \n",
       "1    scotthamilton  is upset that he can't update his Facebook by ...  \n",
       "2         mattycus  @Kenichan I dived many times for the ball. Man...  \n",
       "3          ElleCTF    my whole body feels itchy and like its on fire   \n",
       "4           Karoli  @nationwideclass no, it's not behaving at all....  \n",
       "5         joy_wolf                      @Kwesidei not the whole crew   \n",
       "6          mybirch                                        Need a hug   \n",
       "7             coZZ  @LOLTrish hey  long time no see! Yes.. Rains a...  "
      ]
     },
     "metadata": {},
     "output_type": "display_data"
    }
   ],
   "source": [
    "# Quick inspection\n",
    "print(\"Shape:\", df.shape)\n",
    "display(df.head(8))"
   ]
  },
  {
   "cell_type": "markdown",
   "id": "0209e3e9-0b6d-49f4-be69-67a4321d9c7c",
   "metadata": {},
   "source": [
    "# Class Distribution\n",
    "\n",
    "Let’s see how many **positive vs negative** tweets exist in the dataset.  \n",
    "We will also plot a simple **bar chart** to visualize the balance between classes.\n"
   ]
  },
  {
   "cell_type": "code",
   "execution_count": 4,
   "id": "66adcc6f-5590-4531-be32-d51bb0878830",
   "metadata": {},
   "outputs": [
    {
     "name": "stdout",
     "output_type": "stream",
     "text": [
      "Sentiment counts (raw):\n",
      "sentiment\n",
      "0    800000\n",
      "4    800000\n",
      "Name: count, dtype: int64\n"
     ]
    },
    {
     "data": {
      "image/png": "[encoded data removed]",
      "text/plain": [
       "<Figure size 600x400 with 1 Axes>"
      ]
     },
     "metadata": {},
     "output_type": "display_data"
    }
   ],
   "source": [
    "# Class counts\n",
    "counts = df['sentiment'].value_counts().sort_index()\n",
    "print(\"Sentiment counts (raw):\")\n",
    "print(counts)\n",
    "\n",
    "# bar chart for class distribution\n",
    "import matplotlib.pyplot as plt\n",
    "\n",
    "plt.figure(figsize=(6,4))\n",
    "labels = ['Negative (0)', 'Positive (4)'] if set([0,4]).issubset(counts.index) else counts.index.astype(str)\n",
    "values = [counts.get(0,0), counts.get(4,0)] if set([0,4]).issubset(counts.index) else counts.values\n",
    "plt.bar(labels, values, color=[\"red\",\"green\"])\n",
    "plt.title(\"Class distribution (Sentiment140)\")\n",
    "plt.ylabel(\"Number of tweets\")\n",
    "plt.show()\n"
   ]
  },
  {
   "cell_type": "markdown",
   "id": "4782d6ea-021f-4573-ab16-8c8a785c34cc",
   "metadata": {},
   "source": [
    "# Inspect Raw Tweets\n",
    "\n",
    "Here we look at a few **raw tweets** from both classes.  \n",
    "This helps us understand what the text looks like before any cleaning.\n"
   ]
  },
  {
   "cell_type": "code",
   "execution_count": 5,
   "id": "4b8899fd-9fc6-4da8-ba86-24d4283e4ecd",
   "metadata": {},
   "outputs": [
    {
     "name": "stdout",
     "output_type": "stream",
     "text": [
      "\n",
      "Sample raw negative tweets (3):\n"
     ]
    },
    {
     "data": {
      "text/plain": [
       "[\"@xnausikaax oh no! where did u order from? that's horrible \",\n",
       " 'A great hard training weekend is over.  a couple days of rest and lets do it again!  Lots of computer time to put in now ',\n",
       " \"Right, off to work  Only 5 hours to go until I'm free xD\"]"
      ]
     },
     "metadata": {},
     "output_type": "display_data"
    },
    {
     "name": "stdout",
     "output_type": "stream",
     "text": [
      "\n",
      "Sample raw positive tweets (3):\n"
     ]
    },
    {
     "data": {
      "text/plain": [
       "['Is lookin 4ward to a long weekend  really dont want to go to work 2day tho =[ x',\n",
       " '#myweakness  Is music and i live to meet the people who make it ',\n",
       " 'figured out the Internet on my new iPod ']"
      ]
     },
     "metadata": {},
     "output_type": "display_data"
    }
   ],
   "source": [
    "# Show raw tweets\n",
    "from IPython.display import display\n",
    "\n",
    "print(\"\\nSample raw negative tweets (3):\")\n",
    "display(df[df['sentiment']==0]['text'].sample(3, random_state=42).tolist())\n",
    "\n",
    "print(\"\\nSample raw positive tweets (3):\")\n",
    "display(df[df['sentiment']==4]['text'].sample(3, random_state=42).tolist())\n"
   ]
  },
  {
   "cell_type": "markdown",
   "id": "d2ec09c4-8386-4f79-b1b8-0144c430d1db",
   "metadata": {},
   "source": [
    "# Tweet Length Analysis\n",
    "\n",
    "We check how long tweets are in terms of **word count**.  \n",
    "This helps us decide a reasonable `maxlen` for later padding.\n"
   ]
  },
  {
   "cell_type": "code",
   "execution_count": 6,
   "id": "2e54754e-4bd3-4258-bda8-d3ab7bdea265",
   "metadata": {},
   "outputs": [
    {
     "name": "stdout",
     "output_type": "stream",
     "text": [
      "\n",
      "Word count stats (sample):\n",
      "count    50000.000000\n",
      "mean        12.394280\n",
      "std          6.811619\n",
      "min          0.000000\n",
      "25%          7.000000\n",
      "50%         11.000000\n",
      "75%         18.000000\n",
      "max         35.000000\n",
      "Name: word_count, dtype: float64\n"
     ]
    },
    {
     "data": {
      "image/png": "[encoded data removed]",
      "text/plain": [
       "<Figure size 800x400 with 1 Axes>"
      ]
     },
     "metadata": {},
     "output_type": "display_data"
    },
    {
     "name": "stdout",
     "output_type": "stream",
     "text": [
      "Recommended maxlen (95th percentile): 24\n"
     ]
    }
   ],
   "source": [
    "# Tweet length distribution\n",
    "import re\n",
    "\n",
    "# small sample for faster EDA\n",
    "SAMPLE_SIZE = 50000\n",
    "eda_df = df.sample(SAMPLE_SIZE, random_state=42).reset_index(drop=True)\n",
    "\n",
    "# light cleaning (for word counts only)\n",
    "def clean_for_stats(text):\n",
    "    if not isinstance(text, str):\n",
    "        return ''\n",
    "    text = text.lower()\n",
    "    text = re.sub(r'http\\S+|www\\.\\S+', '', text)   # remove urls\n",
    "    text = re.sub(r'@\\w+', '', text)               # remove mentions\n",
    "    text = re.sub(r'[^a-z\\s]', '', text)           # keep only letters and spaces\n",
    "    text = re.sub(r'\\s+', ' ', text).strip()\n",
    "    return text\n",
    "\n",
    "eda_df['clean_text'] = eda_df['text'].astype(str).apply(clean_for_stats)\n",
    "eda_df['word_count'] = eda_df['clean_text'].apply(lambda s: len(s.split()) if s else 0)\n",
    "\n",
    "# word count statistics\n",
    "print(\"\\nWord count stats (sample):\")\n",
    "print(eda_df['word_count'].describe())\n",
    "\n",
    "# histogram\n",
    "plt.figure(figsize=(8,4))\n",
    "plt.hist(eda_df['word_count'], bins=30, edgecolor='k')\n",
    "plt.xlabel('Words per tweet')\n",
    "plt.ylabel('Number of tweets')\n",
    "plt.title('Tweet length distribution (words)')\n",
    "plt.show()\n",
    "\n",
    "# recommended maxlen (95th percentile)\n",
    "maxlen_95 = int(eda_df['word_count'].quantile(0.95))\n",
    "print(\"Recommended maxlen (95th percentile):\", maxlen_95)\n"
   ]
  },
  {
   "cell_type": "markdown",
   "id": "3f02e874-f867-4738-87ea-88d1f929dc96",
   "metadata": {},
   "source": [
    "# Most Frequent Words\n",
    "\n",
    "Finally, let’s check the **most common words** in tweets.  \n",
    "This gives a quick sense of the vocabulary being used."
   ]
  },
  {
   "cell_type": "code",
   "execution_count": 7,
   "id": "cc460e8b-0423-4082-b3a7-eecfa318c219",
   "metadata": {
    "jupyter": {
     "source_hidden": true
    }
   },
   "outputs": [
    {
     "name": "stdout",
     "output_type": "stream",
     "text": [
      "\n",
      "Top 20 words (sample):\n",
      "i: 23754\n",
      "to: 17512\n",
      "the: 16130\n",
      "a: 11850\n",
      "my: 9724\n",
      "and: 9278\n",
      "you: 8614\n",
      "it: 7267\n",
      "is: 7222\n",
      "for: 6708\n",
      "in: 6687\n",
      "im: 5589\n",
      "of: 5532\n",
      "on: 5128\n",
      "me: 4909\n",
      "so: 4749\n",
      "have: 4571\n",
      "that: 4444\n",
      "but: 3939\n",
      "just: 3910\n"
     ]
    },
    {
     "data": {
      "image/png": "[encoded data removed]",
      "text/plain": [
       "<Figure size 1000x400 with 1 Axes>"
      ]
     },
     "metadata": {},
     "output_type": "display_data"
    },
    {
     "name": "stdout",
     "output_type": "stream",
     "text": [
      "\n",
      "Random cleaned negative examples (3):\n"
     ]
    },
    {
     "data": {
      "text/plain": [
       "['soree throat', 'ow', 'i hate regionalised telly no fa cup on stv football']"
      ]
     },
     "metadata": {},
     "output_type": "display_data"
    },
    {
     "name": "stdout",
     "output_type": "stream",
     "text": [
      "\n",
      "Random cleaned positive examples (3):\n"
     ]
    },
    {
     "data": {
      "text/plain": [
       "['is at the airport again played rockfest in kansas city yesterday people insane photos coming soon',\n",
       " 'cuzz i def diggin the cut bwoy u freakin like ur dad gt gt its a bit scary',\n",
       " 'yes well keep in mind that steven grant is kind of a dick when writing reviews']"
      ]
     },
     "metadata": {},
     "output_type": "display_data"
    }
   ],
   "source": [
    "# Top words\n",
    "from collections import Counter\n",
    "\n",
    "all_words = ' '.join(eda_df['clean_text'].astype(str)).split()\n",
    "word_counts = Counter(all_words)\n",
    "top20 = word_counts.most_common(20)\n",
    "\n",
    "print(\"\\nTop 20 words (sample):\")\n",
    "for w, c in top20:\n",
    "    print(f\"{w}: {c}\")\n",
    "\n",
    "# bar plot of top words\n",
    "words, counts_ = zip(*top20)\n",
    "plt.figure(figsize=(10,4))\n",
    "plt.bar(words, counts_, color=\"skyblue\")\n",
    "plt.xticks(rotation=45)\n",
    "plt.title('Top 20 words (sample)')\n",
    "plt.show()\n",
    "\n",
    "# also show a few cleaned examples\n",
    "print(\"\\nRandom cleaned negative examples (3):\")\n",
    "display(eda_df[eda_df['sentiment']==0]['clean_text'].sample(3, random_state=42).tolist())\n",
    "\n",
    "print(\"\\nRandom cleaned positive examples (3):\")\n",
    "display(eda_df[eda_df['sentiment']==4]['clean_text'].sample(3, random_state=42).tolist())\n"
   ]
  },
  {
   "cell_type": "markdown",
   "id": "4035241c-fafb-42ee-88dd-af5b9569fd1f",
   "metadata": {},
   "source": [
    "# Preprocessing & Data Preparation\n",
    "\n",
    "Now that we explored the dataset, we prepare it for training.  \n",
    "Steps include:\n",
    "- Converting labels to binary (0 = negative, 1 = positive)\n",
    "- Cleaning tweets (remove URLs, mentions, special characters)\n",
    "- Tokenizing and padding sequences\n",
    "- Splitting into train/validation sets\n"
   ]
  },
  {
   "cell_type": "code",
   "execution_count": 8,
   "id": "832c319f-4404-42c3-aae4-7ea2adc6da71",
   "metadata": {},
   "outputs": [
    {
     "data": {
      "text/plain": [
       "label\n",
       "0    800000\n",
       "1    800000\n",
       "Name: count, dtype: int64"
      ]
     },
     "execution_count": 8,
     "metadata": {},
     "output_type": "execute_result"
    }
   ],
   "source": [
    "# Convert labels: (0 -> 0, 4 -> 1)\n",
    "df['label'] = df['sentiment'].apply(lambda x: 1 if x == 4 else 0)\n",
    "\n",
    "# check distribution after mapping\n",
    "df['label'].value_counts()\n"
   ]
  },
  {
   "cell_type": "code",
   "execution_count": 9,
   "id": "7f36555a-3008-4a5a-8a3a-c48cd5adbd3f",
   "metadata": {},
   "outputs": [
    {
     "data": {
      "text/html": [
       "<div>\n",
       "<style scoped>\n",
       "    .dataframe tbody tr th:only-of-type {\n",
       "        vertical-align: middle;\n",
       "    }\n",
       "\n",
       "    .dataframe tbody tr th {\n",
       "        vertical-align: top;\n",
       "    }\n",
       "\n",
       "    .dataframe thead th {\n",
       "        text-align: right;\n",
       "    }\n",
       "</style>\n",
       "<table border=\"1\" class=\"dataframe\">\n",
       "  <thead>\n",
       "    <tr style=\"text-align: right;\">\n",
       "      <th></th>\n",
       "      <th>text</th>\n",
       "      <th>clean_text</th>\n",
       "    </tr>\n",
       "  </thead>\n",
       "  <tbody>\n",
       "    <tr>\n",
       "      <th>541200</th>\n",
       "      <td>@chrishasboobs AHHH I HOPE YOUR OK!!!</td>\n",
       "      <td>ahhh i hope your ok</td>\n",
       "    </tr>\n",
       "    <tr>\n",
       "      <th>750</th>\n",
       "      <td>@misstoriblack cool , i have no tweet apps  fo...</td>\n",
       "      <td>cool i have no tweet apps for my razr</td>\n",
       "    </tr>\n",
       "    <tr>\n",
       "      <th>766711</th>\n",
       "      <td>@TiannaChaos i know  just family drama. its la...</td>\n",
       "      <td>i know just family drama its lamehey next time...</td>\n",
       "    </tr>\n",
       "    <tr>\n",
       "      <th>285055</th>\n",
       "      <td>School email won't open  and I have geography ...</td>\n",
       "      <td>school email wont open and i have geography st...</td>\n",
       "    </tr>\n",
       "    <tr>\n",
       "      <th>705995</th>\n",
       "      <td>upper airways problem</td>\n",
       "      <td>upper airways problem</td>\n",
       "    </tr>\n",
       "  </tbody>\n",
       "</table>\n",
       "</div>"
      ],
      "text/plain": [
       "                                                     text  \\\n",
       "541200             @chrishasboobs AHHH I HOPE YOUR OK!!!    \n",
       "750     @misstoriblack cool , i have no tweet apps  fo...   \n",
       "766711  @TiannaChaos i know  just family drama. its la...   \n",
       "285055  School email won't open  and I have geography ...   \n",
       "705995                             upper airways problem    \n",
       "\n",
       "                                               clean_text  \n",
       "541200                                ahhh i hope your ok  \n",
       "750                 cool i have no tweet apps for my razr  \n",
       "766711  i know just family drama its lamehey next time...  \n",
       "285055  school email wont open and i have geography st...  \n",
       "705995                              upper airways problem  "
      ]
     },
     "execution_count": 9,
     "metadata": {},
     "output_type": "execute_result"
    }
   ],
   "source": [
    "import re\n",
    "\n",
    "def clean_text(text):\n",
    "    text = str(text).lower()\n",
    "    text = re.sub(r'http\\S+|www\\S+', '', text)   # remove URLs\n",
    "    text = re.sub(r'@\\w+', '', text)             # remove mentions\n",
    "    text = re.sub(r'[^a-z\\s]', '', text)         # keep only letters\n",
    "    text = re.sub(r'\\s+', ' ', text).strip()\n",
    "    return text\n",
    "\n",
    "df['clean_text'] = df['text'].apply(clean_text)\n",
    "\n",
    "# show a few cleaned examples\n",
    "df[['text', 'clean_text']].sample(5, random_state=42)\n"
   ]
  },
  {
   "cell_type": "code",
   "execution_count": 10,
   "id": "c7f5e05d-727e-41cb-bddd-f339493ea760",
   "metadata": {},
   "outputs": [
    {
     "name": "stdout",
     "output_type": "stream",
     "text": [
      "Train size: 160000\n",
      "Validation size: 40000\n"
     ]
    }
   ],
   "source": [
    "from sklearn.model_selection import train_test_split\n",
    "\n",
    "X = df['clean_text'].values\n",
    "y = df['label'].values\n",
    "\n",
    "# small subset for faster training (optional)\n",
    "SAMPLE_SIZE = 200000\n",
    "if SAMPLE_SIZE < len(X):\n",
    "    X, _, y, _ = train_test_split(X, y, train_size=SAMPLE_SIZE, random_state=42, stratify=y)\n",
    "\n",
    "# split into train/validation\n",
    "X_train, X_val, y_train, y_val = train_test_split(\n",
    "    X, y, test_size=0.2, random_state=42, stratify=y\n",
    ")\n",
    "\n",
    "print(\"Train size:\", len(X_train))\n",
    "print(\"Validation size:\", len(X_val))\n"
   ]
  },
  {
   "cell_type": "markdown",
   "id": "89c64a9e-e1f2-45be-a312-c82a029a7bea",
   "metadata": {},
   "source": [
    "# Tokenization & Padding\n",
    "\n",
    "To feed text into an RNN, we must:\n",
    "- Convert words into integer tokens\n",
    "- Pad/truncate sequences to a fixed length (`maxlen = 24`)\n",
    "- Keep a vocabulary of the most frequent words\n"
   ]
  },
  {
   "cell_type": "code",
   "execution_count": 11,
   "id": "2e14b5c7-737b-4d85-9217-e340c0be1785",
   "metadata": {},
   "outputs": [
    {
     "name": "stdout",
     "output_type": "stream",
     "text": [
      "Example sequence: [38, 2, 396, 33, 389, 7, 30, 106, 321, 18]\n",
      "Padded shape (train): (160000, 24)\n",
      "Padded shape (val): (40000, 24)\n"
     ]
    }
   ],
   "source": [
    "from tensorflow.keras.preprocessing.text import Tokenizer\n",
    "from tensorflow.keras.preprocessing.sequence import pad_sequences\n",
    "\n",
    "# limit vocabulary size (most frequent words only)\n",
    "VOCAB_SIZE = 20000  \n",
    "MAXLEN = 24  # from EDA\n",
    "\n",
    "# fit tokenizer on training data\n",
    "tokenizer = Tokenizer(num_words=VOCAB_SIZE, oov_token=\"<OOV>\")\n",
    "tokenizer.fit_on_texts(X_train)\n",
    "\n",
    "# convert texts to sequences\n",
    "X_train_seq = tokenizer.texts_to_sequences(X_train)\n",
    "X_val_seq = tokenizer.texts_to_sequences(X_val)\n",
    "\n",
    "# pad sequences\n",
    "X_train_pad = pad_sequences(X_train_seq, maxlen=MAXLEN, padding='post', truncating='post')\n",
    "X_val_pad = pad_sequences(X_val_seq, maxlen=MAXLEN, padding='post', truncating='post')\n",
    "\n",
    "print(\"Example sequence:\", X_train_seq[0][:10])\n",
    "print(\"Padded shape (train):\", X_train_pad.shape)\n",
    "print(\"Padded shape (val):\", X_val_pad.shape)\n"
   ]
  },
  {
   "cell_type": "markdown",
   "id": "d628da1c-9844-487d-b18b-e720943e4921",
   "metadata": {},
   "source": [
    "# Building a Basic RNN Model\n",
    "\n",
    "Now that our tweets are converted into padded sequences of word IDs, \n",
    "we can build a **Recurrent Neural Network (RNN)**.\n",
    "\n",
    "Model architecture:\n",
    "1. **Embedding Layer** – turns word IDs into dense vectors (like mini word2vec).\n",
    "2. **SimpleRNN Layer** – processes sequences, keeping memory of previous words.\n",
    "3. **Dense Layer** – outputs the sentiment (0 = negative, 1 = positive).\n"
   ]
  },
  {
   "cell_type": "code",
   "execution_count": 13,
   "id": "d720a244-a1aa-465e-85aa-26b1d6e5ed2c",
   "metadata": {},
   "outputs": [
    {
     "name": "stderr",
     "output_type": "stream",
     "text": [
      "D:\\miniconda_setup\\Lib\\site-packages\\keras\\src\\layers\\core\\embedding.py:100: UserWarning: Do not pass an `input_shape`/`input_dim` argument to a layer. When using Sequential models, prefer using an `Input(shape)` object as the first layer in the model instead.\n",
      "  super().__init__(**kwargs)\n"
     ]
    },
    {
     "data": {
      "text/html": [
       "<pre style=\"white-space:pre;overflow-x:auto;line-height:normal;font-family:Menlo,'DejaVu Sans Mono',consolas,'Courier New',monospace\"><span style=\"font-weight: bold\">Model: \"sequential_1\"</span>\n",
       "</pre>\n"
      ],
      "text/plain": [
       "\u001b[1mModel: \"sequential_1\"\u001b[0m\n"
      ]
     },
     "metadata": {},
     "output_type": "display_data"
    },
    {
     "data": {
      "text/html": [
       "<pre style=\"white-space:pre;overflow-x:auto;line-height:normal;font-family:Menlo,'DejaVu Sans Mono',consolas,'Courier New',monospace\">┏━━━━━━━━━━━━━━━━━━━━━━━━━━━━━━━━━━━━━━┳━━━━━━━━━━━━━━━━━━━━━━━━━━━━━┳━━━━━━━━━━━━━━━━━┓\n",
       "┃<span style=\"font-weight: bold\"> Layer (type)                         </span>┃<span style=\"font-weight: bold\"> Output Shape                </span>┃<span style=\"font-weight: bold\">         Param # </span>┃\n",
       "┡━━━━━━━━━━━━━━━━━━━━━━━━━━━━━━━━━━━━━━╇━━━━━━━━━━━━━━━━━━━━━━━━━━━━━╇━━━━━━━━━━━━━━━━━┩\n",
       "│ embedding_1 (<span style=\"color: #0087ff; text-decoration-color: #0087ff\">Embedding</span>)              │ (<span style=\"color: #00d7ff; text-decoration-color: #00d7ff\">None</span>, <span style=\"color: #00af00; text-decoration-color: #00af00\">24</span>, <span style=\"color: #00af00; text-decoration-color: #00af00\">128</span>)             │       <span style=\"color: #00af00; text-decoration-color: #00af00\">2,560,000</span> │\n",
       "├──────────────────────────────────────┼─────────────────────────────┼─────────────────┤\n",
       "│ simple_rnn_1 (<span style=\"color: #0087ff; text-decoration-color: #0087ff\">SimpleRNN</span>)             │ (<span style=\"color: #00d7ff; text-decoration-color: #00d7ff\">None</span>, <span style=\"color: #00af00; text-decoration-color: #00af00\">64</span>)                  │          <span style=\"color: #00af00; text-decoration-color: #00af00\">12,352</span> │\n",
       "├──────────────────────────────────────┼─────────────────────────────┼─────────────────┤\n",
       "│ dense_1 (<span style=\"color: #0087ff; text-decoration-color: #0087ff\">Dense</span>)                      │ (<span style=\"color: #00d7ff; text-decoration-color: #00d7ff\">None</span>, <span style=\"color: #00af00; text-decoration-color: #00af00\">1</span>)                   │              <span style=\"color: #00af00; text-decoration-color: #00af00\">65</span> │\n",
       "└──────────────────────────────────────┴─────────────────────────────┴─────────────────┘\n",
       "</pre>\n"
      ],
      "text/plain": [
       "┏━━━━━━━━━━━━━━━━━━━━━━━━━━━━━━━━━━━━━━┳━━━━━━━━━━━━━━━━━━━━━━━━━━━━━┳━━━━━━━━━━━━━━━━━┓\n",
       "┃\u001b[1m \u001b[0m\u001b[1mLayer (type)                        \u001b[0m\u001b[1m \u001b[0m┃\u001b[1m \u001b[0m\u001b[1mOutput Shape               \u001b[0m\u001b[1m \u001b[0m┃\u001b[1m \u001b[0m\u001b[1m        Param #\u001b[0m\u001b[1m \u001b[0m┃\n",
       "┡━━━━━━━━━━━━━━━━━━━━━━━━━━━━━━━━━━━━━━╇━━━━━━━━━━━━━━━━━━━━━━━━━━━━━╇━━━━━━━━━━━━━━━━━┩\n",
       "│ embedding_1 (\u001b[38;5;33mEmbedding\u001b[0m)              │ (\u001b[38;5;45mNone\u001b[0m, \u001b[38;5;34m24\u001b[0m, \u001b[38;5;34m128\u001b[0m)             │       \u001b[38;5;34m2,560,000\u001b[0m │\n",
       "├──────────────────────────────────────┼─────────────────────────────┼─────────────────┤\n",
       "│ simple_rnn_1 (\u001b[38;5;33mSimpleRNN\u001b[0m)             │ (\u001b[38;5;45mNone\u001b[0m, \u001b[38;5;34m64\u001b[0m)                  │          \u001b[38;5;34m12,352\u001b[0m │\n",
       "├──────────────────────────────────────┼─────────────────────────────┼─────────────────┤\n",
       "│ dense_1 (\u001b[38;5;33mDense\u001b[0m)                      │ (\u001b[38;5;45mNone\u001b[0m, \u001b[38;5;34m1\u001b[0m)                   │              \u001b[38;5;34m65\u001b[0m │\n",
       "└──────────────────────────────────────┴─────────────────────────────┴─────────────────┘\n"
      ]
     },
     "metadata": {},
     "output_type": "display_data"
    },
    {
     "data": {
      "text/html": [
       "<pre style=\"white-space:pre;overflow-x:auto;line-height:normal;font-family:Menlo,'DejaVu Sans Mono',consolas,'Courier New',monospace\"><span style=\"font-weight: bold\"> Total params: </span><span style=\"color: #00af00; text-decoration-color: #00af00\">2,572,417</span> (9.81 MB)\n",
       "</pre>\n"
      ],
      "text/plain": [
       "\u001b[1m Total params: \u001b[0m\u001b[38;5;34m2,572,417\u001b[0m (9.81 MB)\n"
      ]
     },
     "metadata": {},
     "output_type": "display_data"
    },
    {
     "data": {
      "text/html": [
       "<pre style=\"white-space:pre;overflow-x:auto;line-height:normal;font-family:Menlo,'DejaVu Sans Mono',consolas,'Courier New',monospace\"><span style=\"font-weight: bold\"> Trainable params: </span><span style=\"color: #00af00; text-decoration-color: #00af00\">2,572,417</span> (9.81 MB)\n",
       "</pre>\n"
      ],
      "text/plain": [
       "\u001b[1m Trainable params: \u001b[0m\u001b[38;5;34m2,572,417\u001b[0m (9.81 MB)\n"
      ]
     },
     "metadata": {},
     "output_type": "display_data"
    },
    {
     "data": {
      "text/html": [
       "<pre style=\"white-space:pre;overflow-x:auto;line-height:normal;font-family:Menlo,'DejaVu Sans Mono',consolas,'Courier New',monospace\"><span style=\"font-weight: bold\"> Non-trainable params: </span><span style=\"color: #00af00; text-decoration-color: #00af00\">0</span> (0.00 B)\n",
       "</pre>\n"
      ],
      "text/plain": [
       "\u001b[1m Non-trainable params: \u001b[0m\u001b[38;5;34m0\u001b[0m (0.00 B)\n"
      ]
     },
     "metadata": {},
     "output_type": "display_data"
    }
   ],
   "source": [
    "import tensorflow as tf\n",
    "from tensorflow.keras.models import Sequential\n",
    "from tensorflow.keras.layers import Embedding, SimpleRNN, Dense\n",
    "\n",
    "VOCAB_SIZE = 20000   # same as tokenizer\n",
    "EMBEDDING_DIM = 128  # vector size for each word\n",
    "MAXLEN = 24          # sequence length\n",
    "\n",
    "# Build RNN model\n",
    "model = Sequential([\n",
    "    Embedding(input_dim=VOCAB_SIZE, output_dim=EMBEDDING_DIM, input_shape=(MAXLEN,)),\n",
    "    SimpleRNN(64),\n",
    "    Dense(1, activation='sigmoid')\n",
    "])\n",
    "\n",
    "\n",
    "model.compile(\n",
    "    loss='binary_crossentropy',\n",
    "    optimizer='adam',\n",
    "    metrics=['accuracy']\n",
    ")\n",
    "\n",
    "model.summary()\n"
   ]
  },
  {
   "cell_type": "markdown",
   "id": "bb90a7b7-6dd4-4bb2-aed4-8524d678f021",
   "metadata": {},
   "source": [
    "# Training the RNN Model\n",
    "\n",
    "We will now train our RNN on the Sentiment140 dataset:\n",
    "- **Loss**: Binary Crossentropy (since labels are 0/1)\n",
    "- **Optimizer**: Adam\n",
    "- **Metrics**: Accuracy\n",
    "- We'll also monitor validation accuracy to check for overfitting.\n"
   ]
  },
  {
   "cell_type": "code",
   "execution_count": 14,
   "id": "fefa55c7-c924-41ae-855a-f07f0c93411c",
   "metadata": {},
   "outputs": [
    {
     "name": "stdout",
     "output_type": "stream",
     "text": [
      "Epoch 1/5\n",
      "\u001b[1m313/313\u001b[0m \u001b[32m━━━━━━━━━━━━━━━━━━━━\u001b[0m\u001b[37m\u001b[0m \u001b[1m30s\u001b[0m 80ms/step - accuracy: 0.7496 - loss: 0.5118 - val_accuracy: 0.7789 - val_loss: 0.4721\n",
      "Epoch 2/5\n",
      "\u001b[1m313/313\u001b[0m \u001b[32m━━━━━━━━━━━━━━━━━━━━\u001b[0m\u001b[37m\u001b[0m \u001b[1m23s\u001b[0m 75ms/step - accuracy: 0.8162 - loss: 0.4099 - val_accuracy: 0.7747 - val_loss: 0.4765\n",
      "Epoch 3/5\n",
      "\u001b[1m313/313\u001b[0m \u001b[32m━━━━━━━━━━━━━━━━━━━━\u001b[0m\u001b[37m\u001b[0m \u001b[1m24s\u001b[0m 77ms/step - accuracy: 0.8644 - loss: 0.3238 - val_accuracy: 0.7627 - val_loss: 0.5189\n",
      "Epoch 4/5\n",
      "\u001b[1m313/313\u001b[0m \u001b[32m━━━━━━━━━━━━━━━━━━━━\u001b[0m\u001b[37m\u001b[0m \u001b[1m25s\u001b[0m 79ms/step - accuracy: 0.9052 - loss: 0.2400 - val_accuracy: 0.7420 - val_loss: 0.6286\n",
      "Epoch 5/5\n",
      "\u001b[1m313/313\u001b[0m \u001b[32m━━━━━━━━━━━━━━━━━━━━\u001b[0m\u001b[37m\u001b[0m \u001b[1m22s\u001b[0m 72ms/step - accuracy: 0.9314 - loss: 0.1818 - val_accuracy: 0.7408 - val_loss: 0.6610\n"
     ]
    }
   ],
   "source": [
    "# Training parameters\n",
    "BATCH_SIZE = 512\n",
    "EPOCHS = 5\n",
    "\n",
    "history = model.fit(\n",
    "    X_train_pad, y_train,\n",
    "    validation_data=(X_val_pad, y_val),\n",
    "    batch_size=BATCH_SIZE,\n",
    "    epochs=EPOCHS,\n",
    "    verbose=1\n",
    ")\n"
   ]
  },
  {
   "cell_type": "markdown",
   "id": "79f32c81-91b7-4eb8-b1b4-331b54222b1b",
   "metadata": {},
   "source": [
    "# Visualizing Training Progress\n",
    "\n",
    "We can plot the training vs validation accuracy and loss to see how well the model is learning.\n"
   ]
  },
  {
   "cell_type": "code",
   "execution_count": 15,
   "id": "143e627d-6f74-48cd-a996-51cb9b3f064f",
   "metadata": {},
   "outputs": [
    {
     "data": {
      "image/png": "[encoded data removed]",
      "text/plain": [
       "<Figure size 1200x400 with 2 Axes>"
      ]
     },
     "metadata": {},
     "output_type": "display_data"
    }
   ],
   "source": [
    "plt.figure(figsize=(12,4))\n",
    "\n",
    "# Accuracy\n",
    "plt.subplot(1,2,1)\n",
    "plt.plot(history.history['accuracy'], label='Train Acc')\n",
    "plt.plot(history.history['val_accuracy'], label='Val Acc')\n",
    "plt.xlabel(\"Epochs\")\n",
    "plt.ylabel(\"Accuracy\")\n",
    "plt.title(\"Training vs Validation Accuracy\")\n",
    "plt.legend()\n",
    "\n",
    "# Loss\n",
    "plt.subplot(1,2,2)\n",
    "plt.plot(history.history['loss'], label='Train Loss')\n",
    "plt.plot(history.history['val_loss'], label='Val Loss')\n",
    "plt.xlabel(\"Epochs\")\n",
    "plt.ylabel(\"Loss\")\n",
    "plt.title(\"Training vs Validation Loss\")\n",
    "plt.legend()\n",
    "\n",
    "plt.show()\n"
   ]
  },
  {
   "cell_type": "markdown",
   "id": "1ff98701-17fb-406e-acda-ea280bdeab7f",
   "metadata": {},
   "source": [
    "# Model Evaluation\n",
    "\n",
    "We will:\n",
    "1. Evaluate the model on the validation set.\n",
    "2. Generate predictions for new custom tweets.\n",
    "3. Explore possible improvements (regularization, dropout, etc.).\n"
   ]
  },
  {
   "cell_type": "code",
   "execution_count": 17,
   "id": "945fcdb5-2e61-4a10-a9a3-da5c4f907776",
   "metadata": {},
   "outputs": [
    {
     "name": "stdout",
     "output_type": "stream",
     "text": [
      "\u001b[1m1250/1250\u001b[0m \u001b[32m━━━━━━━━━━━━━━━━━━━━\u001b[0m\u001b[37m\u001b[0m \u001b[1m6s\u001b[0m 5ms/step - accuracy: 0.7408 - loss: 0.6610\n",
      "Validation Accuracy: 0.7408\n",
      "Validation Loss: 0.6610\n"
     ]
    }
   ],
   "source": [
    "val_loss, val_acc = model.evaluate(X_val_pad, y_val, verbose=1)\n",
    "print(f\"Validation Accuracy: {val_acc:.4f}\")\n",
    "print(f\"Validation Loss: {val_loss:.4f}\")\n"
   ]
  },
  {
   "cell_type": "code",
   "execution_count": 20,
   "id": "94aff364-c16d-4582-92a1-57640d3bfc89",
   "metadata": {},
   "outputs": [
    {
     "name": "stdout",
     "output_type": "stream",
     "text": [
      "Tweet: I love using deep learning for NLP!\n",
      "Sentiment: Positive 😀 (score=0.5548)\n",
      "\n",
      "Tweet: This product is the worst experience ever.\n",
      "Sentiment: Negative 😡 (score=0.0334)\n",
      "\n",
      "Tweet: I'm not sure how I feel about this update.\n",
      "Sentiment: Negative 😡 (score=0.2383)\n",
      "\n"
     ]
    }
   ],
   "source": [
    "# --- Prediction helper ---\n",
    "def predict_sentiment(text):\n",
    "    # Convert text → sequence\n",
    "    seq = tokenizer.texts_to_sequences([text])\n",
    "    # Pad to same MAX_LEN used in training\n",
    "    pad = pad_sequences(seq, maxlen=MAXLEN, padding='post', truncating='post')\n",
    "    # Model prediction\n",
    "    pred = model.predict(pad, verbose=0)[0][0]\n",
    "    sentiment = \"Positive 😀\" if pred > 0.5 else \"Negative 😡\"\n",
    "    return sentiment, pred\n",
    "\n",
    "# --- Test on examples ---\n",
    "examples = [\n",
    "    \"I love using deep learning for NLP!\",\n",
    "    \"This product is the worst experience ever.\",\n",
    "    \"I'm not sure how I feel about this update.\"\n",
    "]\n",
    "\n",
    "for txt in examples:\n",
    "    sentiment, score = predict_sentiment(txt)\n",
    "    print(f\"Tweet: {txt}\\nSentiment: {sentiment} (score={score:.4f})\\n\")\n"
   ]
  },
  {
   "cell_type": "code",
   "execution_count": null,
   "id": "7d9bf983-3889-4796-9df7-6c4a7c7a8f66",
   "metadata": {},
   "outputs": [],
   "source": []
  },
  {
   "cell_type": "code",
   "execution_count": null,
   "id": "6cf31849-6e32-4b0f-ab84-0fa999ce9010",
   "metadata": {},
   "outputs": [],
   "source": []
  }
 ],
 "metadata": {
  "kernelspec": {
   "display_name": "Python 3 (ipykernel)",
   "language": "python",
   "name": "python3"
  },
  "language_info": {
   "codemirror_mode": {
    "name": "ipython",
    "version": 3
   },
   "file_extension": ".py",
   "mimetype": "text/x-python",
   "name": "python",
   "nbconvert_exporter": "python",
   "pygments_lexer": "ipython3",
   "version": "3.12.9"
  }
 },
 "nbformat": 4,
 "nbformat_minor": 5
}
